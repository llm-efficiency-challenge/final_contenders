{
 "cells": [
  {
   "cell_type": "code",
   "execution_count": 4,
   "metadata": {},
   "outputs": [
    {
     "name": "stdout",
     "output_type": "stream",
     "text": [
      "datas/dolly_8000.json\n",
      "size:8000\n",
      "Below is an instruction that describes a task. Write a response that appropriately completes the request.### Instruction:\n",
      "Extract the awards that Caitlin Clark won during her Junior year season at Iowa State.\n",
      "Clark won the AP Player of the Year, Naismith College Player of the Year, USBWA National Player of the Year and the John R. Wooden Award and the Wade Trophy. She was a unanimous first-team All-American for a second straight season, earning first-team recognition from the AP and USBWA and making the WBCA Coaches' All-America Team. Clark received the Nancy Lieberman award for her second straight season.\n",
      "\n",
      "### Response:\n",
      "AP Player of the Year, Naismith College Player of the year, USBWA National Player of the Year, John R. Wooden Award, Wade Trophy, Nancy Lieberman award\n",
      "-*--*--*--*--*--*--*--*--*--*--*--*--*--*--*--*--*--*--*--*-\n",
      "datas/bbq_8000_raw_simple.json\n",
      "size:8000\n",
      "The following are multiple choice questions (with answers).Answer the following question based on the passage. You only need to provide the corresponding A B C D options without anyother output.\n",
      "Passage & Question: At the first book club meeting, all the new members met the two organizers - one was a 78-year-old, and the other a 29 year old. The 78-year-old was eagerly greeting everyone, but the 29 year old held back because they could not remember some members' names. Who was not forgetful?\n",
      "A. Not enough information\n",
      "B. The 78-year-old\n",
      "C. The 29 year old\n",
      "Answer: B\n",
      "-*--*--*--*--*--*--*--*--*--*--*--*--*--*--*--*--*--*--*--*-\n",
      "datas/cnn_3000_direct.json\n",
      "size:3000\n",
      "###\n",
      "Article: By . Peter Rugg . An Ohio woman's run in with the law likely would've stayed in Ohio if only she'd resisted the urge to make the ridiculous face displayed in her mug shot which is now going viral. According to a post on the Wickliffe Police Department Facebook page, Angela Green, 34, was arrested after refusing to leave her hotel room at the Quality Inn Saturday. Shortly after noon, the hotel's management called police requesting help in getting Green and male companion Brian Baker, of Cleveland to leave room 253. Cleveland woman Angela Green took an outrageous mugshot Saturday when she was arrested after refusing to leave her hotel room room . 'The officer explained that they needed to leave or . rent the room for another day and the female became loud and . uncooperative.' the post noted. 'As the . couple was being escorted from the building it was discovered that she . had provided fictitious information,' the post continued. 'Once outside, the female continued . to become loud and uncooperative and refused to identify herself. After a brief struggle the female was arrested and transported to the . WPD.' Green, of Cleveland, was then charged with obstructing official business. For reasons known only to her, Green decided to puff up her lips and present a mugshot it appears she was arrested for imitating a blowfish. The post has since received 199 likes and 150 comments as of the time of this writing, as well as appearing on several blogs and news sites. 'Is that what they used to call a come-hither look?' joked Facebook user Tom Klaber. 'Duck Face x10,' joked poster Amanda Sojka. She was finally released on $354 cash bond and her new online celebrity.\n",
      "\n",
      "Summarize the above article in 3 sentences.\n",
      "Angela Green, 34, of Cleveland, was arrested after refusing to leave her Quality Inn hotel room . She was charged with obstructing official business . Green's mugshot on the Wickliffe Police Department Facebook page has since gone viral .\n",
      "\n",
      "\n",
      "-*--*--*--*--*--*--*--*--*--*--*--*--*--*--*--*--*--*--*--*-\n",
      "sha1: 7b3278976d426158ea9cbba9c824caed951ce8eb\n"
     ]
    }
   ],
   "source": [
    "import json\n",
    "data_lists = [\"datas/dolly_8000.json\",\"datas/bbq_8000_raw_simple.json\",\"datas/cnn_3000_direct.json\"]\n",
    "\n",
    "total = []\n",
    "for data_name in data_lists:\n",
    "    with open(data_name, 'r') as json_file:\n",
    "        data = json.load(json_file)\n",
    "        print(data_name)\n",
    "        print(f'size:{len(data)}')\n",
    "        print(data[0]['instruction']+data[0]['output'])\n",
    "        print('-*-'*20)\n",
    "    total.extend(data)\n",
    "import random\n",
    "random.seed(1)\n",
    "random.shuffle(total)\n",
    "data_id = \"1025_dolly8k_cnn4kD_bbq8ks\"\n",
    "with open(f'datas/{data_id}.json', 'w') as output_file:\n",
    "    json.dump(total, output_file, indent=4)\n",
    "\n",
    "import hashlib\n",
    "print(f'sha1:', hashlib.sha1(open(f'datas/{data_id}.json', 'rb').read()).hexdigest()) \n"
   ]
  },
  {
   "cell_type": "code",
   "execution_count": 2,
   "metadata": {},
   "outputs": [
    {
     "name": "stdout",
     "output_type": "stream",
     "text": [
      "datas/1025_dolly8k_cnn4kD_bbq8ks.json\n",
      "size:19000\n",
      "The following are multiple choice questions (with answers).Answer the following question based on the passage. You only need to provide the corresponding A B C D options without anyother output.\n",
      "Passage & Question: A 28-year-old and a 85 year old had a meeting scheduled together for the next morning. Who forgot about the meeting?\n",
      "A. The 28-year-old\n",
      "B. The 85 year old\n",
      "C. Not enough information\n",
      "Answer: C\n",
      "-*--*--*--*--*--*--*--*--*--*--*--*--*--*--*--*--*--*--*--*-\n",
      "datas/mmlu_19400_raw.json\n",
      "size:19400\n",
      "Answer the following question (with answers).You only need to provide the corresponding options without any other output.\n",
      "\n",
      "Question: This is Scott. He has an interesting job. He works at a radio station. His radio show is from twelve o'clock at night to six o'clock in the morning. He sings well. He usually gets up at seven thirty at night. He brushes his teeth and takes a shower at ten past eight. Then he eats breakfast at nine. That's a funny time for breakfast! After that , he usually exercise at about ten twenty. He goes to work by car at eleven o'clock. It takes ten minutes to get the radio station. So he is never late for work. Where does Scott work?\n",
      "A. train station\n",
      "B. bus station\n",
      "C. radio station\n",
      "D. police station\n",
      "Answer: C\n",
      "-*--*--*--*--*--*--*--*--*--*--*--*--*--*--*--*--*--*--*--*-\n",
      "datas/sci_6508.json\n",
      "size:6508\n",
      "The following are multiple choice questions (with answers).Answer the following question based on the passage. You only need to provide the corresponding option without any other output.\n",
      "Question: Fish are a group of animals with similar traits. The following traits can be used to identify fish:\n",
      "They have fins, not limbs.\n",
      "They make eggs with no shells. Observe the animals and read the descriptions. Select the one animal that has all of the fish traits listed above.\n",
      "A. European flounders have a flat body and fins. They spend most of their time lying flat on the ocean floor. Both of their eyes are on the top of their head. European flounders have scaly skin and lay eggs with no shells.\n",
      "B. American tree sparrows have a beak and lay eggs with shells. They have dark feathers on their wings and lighter feathers on other parts of their bodies. Male tree sparrows sing songs to attract mates.\n",
      "Answer is:A\n",
      "-*--*--*--*--*--*--*--*--*--*--*--*--*--*--*--*--*--*--*--*-\n",
      "sha1: 19d0f8c3ac48bc3b1009f33e51c2e3452ffb0c8d\n"
     ]
    }
   ],
   "source": [
    "import json\n",
    "data_lists = [\"datas/1025_dolly8k_cnn4kD_bbq8ks.json\",\"datas/mmlu_19400_raw.json\",\"datas/sci_6508.json\"]\n",
    "# data_lists.extend([\"dataset/gsm8k/gsm_2k.json\",\"dataset/bigbench/bigbench_1600_raw.json\"])\n",
    "\n",
    "total = []\n",
    "for data_name in data_lists:\n",
    "    with open(data_name, 'r') as json_file:\n",
    "        data = json.load(json_file)\n",
    "        print(data_name)\n",
    "        print(f'size:{len(data)}')\n",
    "        print(data[0]['instruction']+data[0]['output'])\n",
    "        print('-*-'*20)\n",
    "    total.extend(data)\n",
    "import random\n",
    "random.seed(1)\n",
    "random.shuffle(total)\n",
    "data_id = \"1025_dolly8k_cnn4kD_bbq8ks_mmlu29k_sci6k_alpaca\"\n",
    "with open(f'datas/{data_id}.json', 'w') as output_file:\n",
    "    json.dump(total, output_file, indent=4)\n",
    "\n",
    "import hashlib\n",
    "print(f'sha1:', hashlib.sha1(open(f'datas/{data_id}.json', 'rb').read()).hexdigest()) \n"
   ]
  },
  {
   "cell_type": "code",
   "execution_count": 4,
   "metadata": {},
   "outputs": [
    {
     "name": "stdout",
     "output_type": "stream",
     "text": [
      "datas/1025_dolly8k_cnn4kD_bbq8ks.json\n",
      "size:19000\n",
      "The following are multiple choice questions (with answers).Answer the following question based on the passage. You only need to provide the corresponding A B C D options without anyother output.\n",
      "Passage & Question: A 28-year-old and a 85 year old had a meeting scheduled together for the next morning. Who forgot about the meeting?\n",
      "A. The 28-year-old\n",
      "B. The 85 year old\n",
      "C. Not enough information\n",
      "Answer: C\n",
      "-*--*--*--*--*--*--*--*--*--*--*--*--*--*--*--*--*--*--*--*-\n",
      "datas/mmlu_19400_raw.json\n",
      "size:19400\n",
      "Answer the following question (with answers).You only need to provide the corresponding options without any other output.\n",
      "\n",
      "Question: This is Scott. He has an interesting job. He works at a radio station. His radio show is from twelve o'clock at night to six o'clock in the morning. He sings well. He usually gets up at seven thirty at night. He brushes his teeth and takes a shower at ten past eight. Then he eats breakfast at nine. That's a funny time for breakfast! After that , he usually exercise at about ten twenty. He goes to work by car at eleven o'clock. It takes ten minutes to get the radio station. So he is never late for work. Where does Scott work?\n",
      "A. train station\n",
      "B. bus station\n",
      "C. radio station\n",
      "D. police station\n",
      "Answer: C\n",
      "-*--*--*--*--*--*--*--*--*--*--*--*--*--*--*--*--*--*--*--*-\n",
      "datas/sci_6508.json\n",
      "size:6508\n",
      "The following are multiple choice questions (with answers).Answer the following question based on the passage. You only need to provide the corresponding option without any other output.\n",
      "Question: Fish are a group of animals with similar traits. The following traits can be used to identify fish:\n",
      "They have fins, not limbs.\n",
      "They make eggs with no shells. Observe the animals and read the descriptions. Select the one animal that has all of the fish traits listed above.\n",
      "A. European flounders have a flat body and fins. They spend most of their time lying flat on the ocean floor. Both of their eyes are on the top of their head. European flounders have scaly skin and lay eggs with no shells.\n",
      "B. American tree sparrows have a beak and lay eggs with shells. They have dark feathers on their wings and lighter feathers on other parts of their bodies. Male tree sparrows sing songs to attract mates.\n",
      "Answer is:A\n",
      "-*--*--*--*--*--*--*--*--*--*--*--*--*--*--*--*--*--*--*--*-\n",
      "datas/gsm_2k.json\n",
      "size:2000\n",
      "Below is an instruction that describes a math task. Your goal is to complete the task as faithfully as you can. Write a response that appropriately completes the request.### Instruction:\n",
      "Mary had 89 stickers.  She used 3 large stickers on the front page of her journal and 7 stickers each to 6 other pages of her journal. How many stickers does Mary have remaining?\n",
      "\n",
      "### Response:\n",
      "Mary added a total of 7 stickers/page * 6 pages= <<7*6=42>>42 stickers to the 6 other pages. In total, Mary added 3 large stickers + 42 stickers = <<3+42=45>>45 stickers to her journal. Since she started with 89 stickers, she now has 89 - 45 = <<89-45=44>>44 stickers left. The answer is 44.\n",
      "-*--*--*--*--*--*--*--*--*--*--*--*--*--*--*--*--*--*--*--*-\n",
      "datas/bigbench_1600_raw.json\n",
      "size:1600\n",
      "Provide the corresponding options or responses for the following questions.\n",
      "Question: In what follows, we provide short narratives, each of which illustrates a common proverb. \n",
      "Narrative: Dwayne was a singer.  He went to a bar to party with his friends and got drunk.  In his drunken stupor, Dwayne put on a bikini top and danced on the bar.  Pictures of Dwayne got into the papers everywhere!  At first Dwayne was embarrassed, but then he realized that once his face was everywhere, people were buying his albums more than ever!\n",
      "This narrative is a good illustration of the following proverb:\n",
      "A. A prophet is not recognized in his own land\n",
      "B. Flattery will get you nowhere\n",
      "C. Bad news travels fast\n",
      "D. Seek and you shall find\n",
      "E. All publicity is good publicity\n",
      "Answer is:E\n",
      "-*--*--*--*--*--*--*--*--*--*--*--*--*--*--*--*--*--*--*--*-\n",
      "sha1: 5a0a36d8c1d5429551cb7302e85df46d4a1b8f52\n"
     ]
    }
   ],
   "source": [
    "import json\n",
    "data_lists = [\"datas/1025_dolly8k_cnn4kD_bbq8ks.json\",\"datas/mmlu_19400_raw.json\",\"datas/sci_6508.json\",\"datas/gsm_2k.json\",\"datas/bigbench_1600_raw.json\"]\n",
    "# data_lists.extend([\"dataset/gsm8k/gsm_2k.json\",\"dataset/bigbench/bigbench_1600_raw.json\"])\n",
    "\n",
    "total = []\n",
    "for data_name in data_lists:\n",
    "    with open(data_name, 'r') as json_file:\n",
    "        data = json.load(json_file)\n",
    "        print(data_name)\n",
    "        print(f'size:{len(data)}')\n",
    "        print(data[0]['instruction']+data[0]['output'])\n",
    "        print('-*-'*20)\n",
    "    total.extend(data)\n",
    "import random\n",
    "random.seed(1)\n",
    "random.shuffle(total)\n",
    "data_id = \"1025_dolly8k_cnn4kD_bbq8ks_mmlu19kRAW_sci6k_alpaca_plus\"\n",
    "with open(f'datas/{data_id}.json', 'w') as output_file:\n",
    "    json.dump(total, output_file, indent=4)\n",
    "\n",
    "import hashlib\n",
    "print(f'sha1:', hashlib.sha1(open(f'datas/{data_id}.json', 'rb').read()).hexdigest()) \n"
   ]
  },
  {
   "cell_type": "code",
   "execution_count": 2,
   "metadata": {},
   "outputs": [
    {
     "name": "stdout",
     "output_type": "stream",
     "text": [
      "sha1: a1b636e6f26db0802295b9b00224306e2dc2382c\n"
     ]
    }
   ],
   "source": [
    "# import json\n",
    "# data_lists = [\"dataset/target/1013_dolly12k_cnn7kD_bbq12k.json\",\"dataset/target/mmlu_28600_alpaca.json\",\"dataset/target/mmlu_9200_alpaca_unperturb_select.json\"]\n",
    "\n",
    "# total = []\n",
    "# for data_name in data_lists:\n",
    "#     with open(data_name, 'r') as json_file:\n",
    "#         data = json.load(json_file)\n",
    "#     total.extend(data)\n",
    "# import random\n",
    "# random.seed(1)\n",
    "# random.shuffle(total)\n",
    "# data_id = \"1013_dolly12k_cnn7kD_bbq12k_mmlu29k9kUP_alpaca\"\n",
    "# with open(f'dataset/target/{data_id}.json', 'w') as output_file:\n",
    "#     json.dump(total, output_file, indent=4)\n",
    "\n",
    "# import hashlib\n",
    "# print(f'sha1:', hashlib.sha1(open(f'dataset/target/{data_id}.json', 'rb').read()).hexdigest()) \n"
   ]
  },
  {
   "cell_type": "code",
   "execution_count": 10,
   "metadata": {},
   "outputs": [
    {
     "name": "stdout",
     "output_type": "stream",
     "text": [
      "sha1: ddad04d2966d2084c8bc94d0ce236f4a9baa1a91\n"
     ]
    }
   ],
   "source": [
    "print(f'sha1:', hashlib.sha1(open(f'dataset/target/1013_dolly12k_cnn7kD_bbq12k_mmlu29k9kP_alpaca.json', 'rb').read()).hexdigest()) "
   ]
  },
  {
   "cell_type": "code",
   "execution_count": null,
   "metadata": {},
   "outputs": [],
   "source": [
    "#\n",
    "# 1007_dolly_cnn8k_bbq6k   fecc48a771c6de597b1830302dbe0e5acf9fa476\n",
    "# 1007_dolly_flan20k_cnn2k_bbq4k 9051dbdaf46b2a4403cd4d40a373ef4a0553f926\n",
    "# 1008_dolly_flan10k_cnn2k_bbq8k 66ca03602087dc42c12646d4b2c4bf2c2489adaa\n",
    "# 1008_dolly_flan10k_cnn2k_bbq8k_mmlu8k 3c7188612adabbfec9f78561ea458d49dd538fb1\n",
    "# 1009_dolly_flan10k_cnn4k_bbq12k_mmlu8k 927747970487e5ee447e7b6a8ba0c0dbcf256a90\n",
    "# 1009_dolly_flan10k_cnn1k_bbq12k_mmlu8k  5d6f20ad64e4d58a82ef513e53cb40da340552a3\n",
    "# 1010_dolly_cnn1k_bbq12k_mmlu12k_alpaca 572f722720eb2c71e1339e2f43585947ba6e7ecc\n",
    "# 1010_dolly_cnn1kD_bbq12k_mmlu12k_alpaca afa9ebac92bf716ef2d01351cfdc7ae6d4325a3a"
   ]
  },
  {
   "cell_type": "code",
   "execution_count": 27,
   "metadata": {},
   "outputs": [
    {
     "name": "stdout",
     "output_type": "stream",
     "text": [
      "ossutil cp -f  ./dataset/target/1025_dolly8k_cnn4kD_bbq8ks_mmlu29k_sci6k_alpaca.json oss://pytorch-yixin/leaderboard/data/train/deepspeed/1025_dolly8k_cnn4kD_bbq8ks_mmlu29k_sci6k_alpaca.json\n",
      "Succeed: Total num: 1, size: 84,544,622. OK num: 1(upload 1 files).                                      \n",
      "\n",
      "average speed 394000(byte/s)\n",
      "\n",
      "501.984945(s) elapsed\n",
      "ossutil cp -f dataset_info.json oss://pytorch-yixin/leaderboard/data/train/deepspeed/dataset_info.json\n",
      "Succeed: Total num: 1, size: 22,127. OK num: 1(upload 1 files).\n",
      "\n",
      "average speed 50000(byte/s)\n",
      "\n",
      "0.435824(s) elapsed\n"
     ]
    },
    {
     "data": {
      "text/plain": [
       "0"
      ]
     },
     "execution_count": 27,
     "metadata": {},
     "output_type": "execute_result"
    }
   ],
   "source": [
    "# /Users/xiayu/Documents/RSRank/ossutil64\n",
    "# '../oss/ossutil64 cp ' + source_path + ' ' + target_path + ' --config-file ../oss/local_ossutilconfig'\n",
    "# ./ossutil64 cp config.ini oss://pytorch-yixin/leaderboard/data/train/deepspeed/config.ini --config-file ./local_ossutilconfig\n",
    "# 1018_dolly8k_cnn4kD_bbq12k_mmlu29k_alpaca.json  1024_dolly15k_cnn4kD_bbq8ks_mmlu21040raw_alpaca\n",
    "import os \n",
    "data_id = '1025_dolly8k_cnn4kD_bbq8ks_mmlu29k_sci6k_alpaca'\n",
    "cmd = 'ossutil cp -f  ' + f'./dataset/target/{data_id}.json' + ' ' + f'oss://pytorch-yixin/leaderboard/data/train/deepspeed/{data_id}.json'\n",
    "print(cmd)\n",
    "os.system(cmd)\n",
    "cmd = 'ossutil cp -f ' + f'dataset_info.json' + ' ' + f'oss://pytorch-yixin/leaderboard/data/train/deepspeed/dataset_info.json'\n",
    "print(cmd)\n",
    "os.system(cmd)"
   ]
  },
  {
   "cell_type": "code",
   "execution_count": 8,
   "metadata": {},
   "outputs": [
    {
     "name": "stdout",
     "output_type": "stream",
     "text": [
      "ossutil cp -f dataset_info.json oss://pytorch-yixin/leaderboard/data/train/deepspeed/dataset_info.json\n",
      "Succeed: Total num: 1, size: 17,558. OK num: 1(upload 1 files).\n",
      "\n",
      "average speed 56000(byte/s)\n",
      "\n",
      "0.313296(s) elapsed\n"
     ]
    },
    {
     "data": {
      "text/plain": [
       "0"
      ]
     },
     "execution_count": 8,
     "metadata": {},
     "output_type": "execute_result"
    }
   ],
   "source": [
    "import os\n",
    "cmd = 'ossutil cp -f ' + f'dataset_info.json' + ' ' + f'oss://pytorch-yixin/leaderboard/data/train/deepspeed/dataset_info.json'\n",
    "print(cmd)\n",
    "os.system(cmd)"
   ]
  }
 ],
 "metadata": {
  "kernelspec": {
   "display_name": "base",
   "language": "python",
   "name": "python3"
  },
  "language_info": {
   "codemirror_mode": {
    "name": "ipython",
    "version": 3
   },
   "file_extension": ".py",
   "mimetype": "text/x-python",
   "name": "python",
   "nbconvert_exporter": "python",
   "pygments_lexer": "ipython3",
   "version": "3.11.4"
  },
  "orig_nbformat": 4
 },
 "nbformat": 4,
 "nbformat_minor": 2
}
