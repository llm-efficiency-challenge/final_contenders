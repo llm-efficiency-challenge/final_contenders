{
 "cells": [
  {
   "cell_type": "code",
   "execution_count": 1,
   "metadata": {},
   "outputs": [
    {
     "name": "stderr",
     "output_type": "stream",
     "text": [
      "Found cached dataset gsm8k (/Users/xiayu/.cache/huggingface/datasets/gsm8k/main/1.1.0/37bfb08b1d4fcbb01f06b03d9e1ef5f1fcbd4d3af3d08842c50d7305091285ba)\n"
     ]
    },
    {
     "data": {
      "application/vnd.jupyter.widget-view+json": {
       "model_id": "27f534ffdbb5444fbdb4cee088911778",
       "version_major": 2,
       "version_minor": 0
      },
      "text/plain": [
       "  0%|          | 0/2 [00:00<?, ?it/s]"
      ]
     },
     "metadata": {},
     "output_type": "display_data"
    }
   ],
   "source": [
    "from datasets import load_dataset\n",
    "\n",
    "gsm = load_dataset(\"gsm8k\",\"main\")"
   ]
  },
  {
   "cell_type": "code",
   "execution_count": 4,
   "metadata": {},
   "outputs": [],
   "source": [
    "import random\n",
    "import json\n",
    "random.seed(1)\n",
    "random_gsm = random.sample(range(len(gsm['train'])),2000)\n",
    "select_gsm = []\n",
    "prefix = \"Below is an instruction that describes a math task. Your goal is to complete the task as faithfully as you can. Write a response that appropriately completes the request.\"\n",
    "for num in random_gsm:\n",
    "    nd = {}\n",
    "    prompt = gsm['train'][num]['question']\n",
    "    nd[\"instruction\"] = prefix+f\"### Instruction:\\n{prompt}\\n\\n### Response:\\n\"\n",
    "    nd[\"input\"] = \"\"\n",
    "    answer = gsm['train'][num]['answer'].replace(\"\\n\",\" \").replace(\"####\",\"The answer is\")+\".\"\n",
    "    nd[\"output\"] = answer\n",
    "    select_gsm.append(nd)\n",
    "\n",
    "with open('datas/gsm_2k.json', 'w') as output_file:\n",
    "    json.dump(select_gsm, output_file, indent=4)"
   ]
  }
 ],
 "metadata": {
  "kernelspec": {
   "display_name": "base",
   "language": "python",
   "name": "python3"
  },
  "language_info": {
   "codemirror_mode": {
    "name": "ipython",
    "version": 3
   },
   "file_extension": ".py",
   "mimetype": "text/x-python",
   "name": "python",
   "nbconvert_exporter": "python",
   "pygments_lexer": "ipython3",
   "version": "3.11.4"
  },
  "orig_nbformat": 4
 },
 "nbformat": 4,
 "nbformat_minor": 2
}
