{
 "cells": [
  {
   "cell_type": "code",
   "execution_count": 1,
   "metadata": {},
   "outputs": [
    {
     "name": "stderr",
     "output_type": "stream",
     "text": [
      "Found cached dataset parquet (/Users/xiayu/.cache/huggingface/datasets/tasksource___parquet/tasksource--ScienceQA_text_only-326992bf14dc7c6f/0.0.0/2a3b91fbd88a2c90d1dbbb32b460cf621d31bd5b05b934492fdef7d8d6f236ec)\n"
     ]
    },
    {
     "data": {
      "application/vnd.jupyter.widget-view+json": {
       "model_id": "2e6a195193ea4fa7a6a63228005457e9",
       "version_major": 2,
       "version_minor": 0
      },
      "text/plain": [
       "  0%|          | 0/3 [00:00<?, ?it/s]"
      ]
     },
     "metadata": {},
     "output_type": "display_data"
    }
   ],
   "source": [
    "from datasets import load_dataset\n",
    "\n",
    "sci = load_dataset(\"tasksource/ScienceQA_text_only\")\n",
    "def get_prompt_answer(data):\n",
    "    total_len = len(data['choices'])\n",
    "    choice_txt = \"\"\n",
    "    for i in range(total_len):\n",
    "        choice_txt += chr(ord('A')+i)+\". \"+data['choices'][i]+\"\\n\"\n",
    "    prompt = 'The following are multiple choice questions (with answers).Answer the following question based on the passage. You only need to provide the corresponding option without any other output.\\n'\n",
    "    prompt += f\"Question: {data['hint']} {data['question']}\\n{choice_txt}Answer is:\"\n",
    "    answer_txt = chr(ord('A')+data['answer'])\n",
    "    return prompt,answer_txt\n"
   ]
  },
  {
   "cell_type": "code",
   "execution_count": 2,
   "metadata": {},
   "outputs": [
    {
     "data": {
      "text/plain": [
       "6508"
      ]
     },
     "execution_count": 2,
     "metadata": {},
     "output_type": "execute_result"
    }
   ],
   "source": [
    "len(sci['train'])"
   ]
  },
  {
   "cell_type": "code",
   "execution_count": 3,
   "metadata": {},
   "outputs": [],
   "source": [
    "import random\n",
    "import json\n",
    "random.seed(7)\n",
    "random_cnn = random.sample(range(len(sci['train'])),len(sci['train']))\n",
    "select_cnn = []\n",
    "# prefix = \"Below is an instruction that describes a task. Write a response that appropriately completes the request.\"\n",
    "prefix = \"\"\n",
    "\n",
    "for num in random_cnn:\n",
    "    nd = {}\n",
    "    tt = sci['train'][num]\n",
    "    prompt,answer_txt = get_prompt_answer(tt)\n",
    "    nd[\"instruction\"] = prefix+prompt\n",
    "    nd[\"input\"] = \"\"\n",
    "    nd[\"output\"] = answer_txt\n",
    "    select_cnn.append(nd)\n",
    "ll  = len(sci['train'])\n",
    "with open(f'datas/sci_{ll}.json', 'w') as output_file:\n",
    "    json.dump(select_cnn, output_file, indent=4)"
   ]
  }
 ],
 "metadata": {
  "kernelspec": {
   "display_name": "base",
   "language": "python",
   "name": "python3"
  },
  "language_info": {
   "codemirror_mode": {
    "name": "ipython",
    "version": 3
   },
   "file_extension": ".py",
   "mimetype": "text/x-python",
   "name": "python",
   "nbconvert_exporter": "python",
   "pygments_lexer": "ipython3",
   "version": "3.11.4"
  }
 },
 "nbformat": 4,
 "nbformat_minor": 2
}
