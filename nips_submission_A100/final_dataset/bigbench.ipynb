{
 "cells": [
  {
   "cell_type": "code",
   "execution_count": 3,
   "metadata": {},
   "outputs": [],
   "source": [
    "\n",
    "SELECT_SUBJECTS=['abstract_narrative_understanding', 'anachronisms', 'analogical_similarity', 'analytic_entailment', 'authorship_verification', 'causal_judgment', 'cause_and_effect', 'checkmate_in_one', 'hindu_knowledge', 'hinglish_toxicity', 'hyperbaton', 'indic_cause_and_effect', 'intent_recognition', 'international_phonetic_alphabet_nli', 'intersect_geometry', 'irony_identification', 'kanji_ascii', 'kannada', 'key_value_maps', 'salient_translation_error_detection', 'snarks', 'social_iqa', 'social_support', 'sports_understanding', 'strange_stories', 'strategyqa', 'swahili_english_proverbs', 'swedish_to_german_proverbs', 'symbol_interpretation', 'temporal_sequences', 'logical_deduction', 'dark_humor_detection']\n",
    "\n",
    "# SAMPLE_SUBJECTS = [item for item in _SUBJECTS if item not in set(SELECT_SUBJECTS)]\n"
   ]
  },
  {
   "cell_type": "code",
   "execution_count": 4,
   "metadata": {},
   "outputs": [],
   "source": [
    "from datasets import load_dataset\n",
    "mmlu_datas = {}"
   ]
  },
  {
   "cell_type": "code",
   "execution_count": 5,
   "metadata": {},
   "outputs": [
    {
     "name": "stderr",
     "output_type": "stream",
     "text": [
      "Found cached dataset bigbench (/Users/xiayu/.cache/huggingface/datasets/tasksource___bigbench/abstract_narrative_understanding/1.0.0/c5da5ac497141c7435da10444495b8577405d4ed01e524265b144a7063718c0c)\n",
      "Found cached dataset bigbench (/Users/xiayu/.cache/huggingface/datasets/tasksource___bigbench/anachronisms/1.0.0/c5da5ac497141c7435da10444495b8577405d4ed01e524265b144a7063718c0c)\n"
     ]
    }
   ],
   "source": [
    "for Name in SELECT_SUBJECTS:\n",
    "    mmlu_datas[Name] = load_dataset(\"tasksource/bigbench\",Name,split='train[0:50]')\n",
    "# for Name in SAMPLE_SUBJECTS:\n",
    "#     mmlu_datas[Name] = load_dataset(\"tasksource/bigbench\",Name,split='train[0:150]')"
   ]
  },
  {
   "cell_type": "code",
   "execution_count": null,
   "metadata": {},
   "outputs": [],
   "source": [
    "def get_prompt_answer(data):\n",
    "    total_len = len(data['multiple_choice_targets'])\n",
    "    choice_txt = \"\"\n",
    "    for i in range(total_len):\n",
    "        choice_txt += chr(ord('A')+i)+\". \"+data['multiple_choice_targets'][i]+\"\\n\"\n",
    "    prompt = f'Provide the corresponding options or responses for the following questions.\\n'\n",
    "    inputs = data['inputs'].split('\\n')\n",
    "    prompt += f\"Question: {data['inputs']}\\n{choice_txt}Answer is:\"\n",
    "    answer_txt = chr(ord('A')+data['multiple_choice_scores'].index(1))\n",
    "    return prompt,answer_txt\n",
    "    "
   ]
  },
  {
   "cell_type": "code",
   "execution_count": null,
   "metadata": {},
   "outputs": [
    {
     "name": "stdout",
     "output_type": "stream",
     "text": [
      "stage1\n",
      "abstract_narrative_understanding\n",
      "{'inputs': 'In what follows, we provide short narratives, each of which illustrates a common proverb. \\nNarrative: The children had been sitting outside of the kitchen for nearly an hour, revelling in the wonderful smell of new cupcakes coming through the door. Eventually, two of the children decided that they could not be bothered to be there any more and got up to leave, despite the pleas of the two remaining children. Five minutes later their grandmother came out of the kitchen with a batch of cupcakes for them to test. As two of the children had gone, the two left got a double helping!\\nThis narrative is a good illustration of the following proverb:', 'targets': ['Good things come to those that wait'], 'multiple_choice_targets': ['Once bitten, twice shy', \"What's sauce for the goose is sauce for the gander\", \"Don't let the grass grow under your feet\", 'Silence is golden', 'Good things come to those that wait'], 'multiple_choice_scores': [0, 0, 0, 0, 1], 'idx': 0}\n",
      "anachronisms\n",
      "{'inputs': 'Dwight Eisenhower was a Chief Master Sergeant of the Space Force.\\nDoes the preceding sentence contain non-contemporaneous (anachronistic) elements?', 'targets': ['Yes'], 'multiple_choice_targets': ['Yes', 'No'], 'multiple_choice_scores': [1, 0], 'idx': 0}\n",
      "analogical_similarity\n",
      "{'inputs': 'The essence of the task: for two given sentence episodes, choose a category that best describes the level of analogical similarity between them.\\n  The parent guided the child, compelling the child to follow the parent. <-> The teacher guided the student, compelling the student to follow the teacher. This is an example of literal similarity because the two episodes share all aspects of similarity.\\n  The parent guided the child, compelling the child to follow the parent. <-> The student followed the teacher, compelling the teacher to guide the student. This is an example of surface similarity because the two episodes share all aspects of similarity except higher-order structure.\\n  The parent guided the child, compelling the child to follow the parent. <-> The student ignored the teacher, compelling the teacher to reprimand the student. This is an example of only objects similarity because the two episodes only share object attribute similarity and higher-order relation similarity.\\n  The parent guided the child, compelling the child to follow the parent. <-> The Bible guided the worshippers, compelling the worshippers to follow the Bible. This is an example of an analogy because the two episodes share all aspects of similarity except role-filler binding similarity and object attribute similarity.\\n  The parent guided the child, compelling the child to follow the parent. <-> The minor guided the chaperone, compelling the chaperone to follow the minor. This is an example of a cross mapping because the two episodes share all aspects of similarity except role-filler binding similarity.\\n  The parent guided the child, compelling the child to follow the parent. <-> The Bible followed the worshippers, compelling the worshippers to guide the Bible. This is an example of a false analogy because the two episodes only share first-order relation similarity, higher-order relation similarity, and object-level isomorphism.\\n  The parent guided the child, compelling the child to follow the parent. <-> The cat swiped at the dog, and the dog barked at the cat. This is an example of no similarity because the two episodes share no aspects of similarity.\\n  The lion intimidated the zebra, causing the zebra to fear the lion. <-> The coyote intimidated the deer, causing the deer to fear the coyote. This is an example of literal similarity because the two episodes share all aspects of similarity.\\n  The lion intimidated the zebra, causing the zebra to fear the lion. <-> The coyote intimidated the deer, and the deer feared the coyote. This is an example of surface similarity because the two episodes share all aspects of similarity except higher-order relation similarity and higher-order structure similarity.\\n  The lion intimidated the zebra, causing the zebra to fear the lion. <-> The coyote pounced on the deer, but the deer escaped from the coyote. This is an example of only objects similarity because the two episodes share object attribute similarity.\\n  The lion intimidated the zebra, causing the zebra to fear the lion. <-> The mob intimidated the witness, causing the witness to fear the mob. This is an example of an analogy because the two episodes share all aspects of similarity except role-filler binding similarity and object attribute similarity.\\n  The lion intimidated the zebra, causing the zebra to fear the lion. <-> The mob feared the witness, causing the mob to intimidate the witness. This is an example of a false analogy because the two episodes only share first-order relation similarity, higher-order relation similarity, and higher-order structure similarity.\\n  The lion intimidated the zebra, causing the zebra to fear the lion. <-> The manager relied on the employee, and the employee assisted the manager. This is an example of no similarity because the two episodes share no aspects of similarity.\\n\\nQ: The defendant harassed the judge, compelling the judge to reprimand the defendant. <-> North Korea harassed the United Nations, compelling the United Nations to reprimand North Korea. This is an example of', 'targets': ['an analogy.'], 'multiple_choice_targets': ['literal similarity.', 'an analogy.', 'a cross mapping.', 'surface similarity.', 'a false analogy.', 'only objects similarity.', 'no similarity.'], 'multiple_choice_scores': [0, 1, 0, 0, 0, 0, 0], 'idx': 0}\n",
      "analytic_entailment\n",
      "{'inputs': 'Determine whether the following pairs of sentences embody an entailment relation or not.\\n\\nSentences: Coco is a bird. So Coco can lay eggs.\\nRelation:', 'targets': ['no-entailment'], 'multiple_choice_targets': ['entailment', 'no-entailment'], 'multiple_choice_scores': [0, 1], 'idx': 0}\n",
      "authorship_verification\n",
      "{'inputs': 'Q: Choose the text that has been written by the same author as: \"I can not imagine what kind of secret that may be.\\' \\'Well, I can give you a case in point. Suppose now that I knew that King Charles was hidden in your stable-loft: such might be the case, and your father be ignorant of it, and his assertion of his ignorance would be believed; but if I were to tell your father that the king was there, and it was afterward discovered, do you not see that, by confiding such a secret to him, I should do harm, and perhaps bring him into trouble?\\' \\'I perceive now, Edward; do you mean to say that you know where the king is concealed? for, if you do, I must beg of you not let my father know any thing about it. As you say, it would put him in a difficult position, and must eventually harm him much. There is a great difference between wishing well to a cause and supporting it in person. My father wishes the king well, I believe, but, at the same time, he will not take an active part, as you have already seen; at the same time, I am convinced that he would never betray the king if he knew where he was. I say, therefore, if that is your secret, keep it from him, for his sake and for mine, Edward, if you regard me.\\' \\'You know not how much I regard you, Patience. I saw many highborn women when I was away, but none could I see equal to Patience Heatherstone, in my opinion; and Patience was ever in my thoughts during my long absence.\\' \\'I thank you for your kind feelings toward me,\\' replied Patience; \\'but, Master Armitage, we were talking about your secret.\\' \\'Master Armitage!\\' rejoined Edward; \\'how well you know how to remind me, by that expression, of my obscure birth and parentage, whenever I am apt to forget the distance which I ought to observe!\\' \\'You are wrong!\\' replied Patience; \\'but you flattered me so grossly, that I called you Master Armitage to show that I disliked flattery, that was all. I dislike flattery from those who are above me in rank, as well as those who are below me; and I should have done the same to any other person, whatever his condition might be. But forget what I said, I did not mean to vex you, only to punish you for thinking me so silly as to believe such nonsense.\\' \\'Your humility may construe that into flattery which was said by me in perfect sincerity and truth-that I can not help,\\' replied Edward. \\'I might have added much more, and yet have been sincere; if you had not reminded me of my not being of gentle birth, I might have had the presumption to have told you much more; but I have been rebuked.\\' Edward finished speaking, and Patience made no reply; they walked on for several moments without exchanging another syllable.\"\\n  choice: \"When do you purpose going back to the New Forest? I think, if you will permit me, I will accompany you,\\' said Chaloner. \\'All the pursuit will be to the northward, to intercept and overtake the retreat into Scotland. I can not therefore go to Lancashire; and, indeed, as they know that I am out, they will be looking for me every where.\\' \\'Then come with me,\\' said Edward, \\'I will find you protection till you can decide what to do. Let us ride on away from this, and we will talk over the matter as we go; but depend upon it, the further south we get the safer we shall be, but still not safe, unless we can change our costume. There will be a strict search for the king to the south, as they will presume that he will try to get safe to France. Hark! what is that? I heard the report of arms. Let us ride up this hill and see what is going on.\\' They did so, and perceived that there was a skirmish between a party of Cavaliers and some of the Parliamentary cavalry, at about a quarter of a mile distant. \\'Come, Chaloner, let us at all events have one blow,\\' said Edward. \\'Agreed,\\' replied Chaloner, spurring his horse; and down they went at full speed, and in a minute were in the melee, coming on the rear of the Parliamentary troops. This sudden attack from behind decided the affair. The Parliamentary troopers, thinking that there were more than two coming upon them, made off after another minute\\'s combat, leaving five or six of their men on the ground. \\'Thanks, Chaloner! thanks, Beverley!\\' said a voice which they immediately recognized. It was that of Grenville, one of the king\\'s pages. \\'These fellows with me were just about to run, if you had not come to our aid. I will remain with them no longer, but join you if you will permit me. At all events, remain here till they go away--I will send them off.\\' Grenville then said to the men, \\'My lads, you must all separate, or there will be no chance of escape. No more than two should ride together. Depend upon it, we shall have more of the troops here directly.\\' The men, about fifteen in number, who had been in company with Grenville, considered that Chaloner\\'s advice was good, and without ceremony set off, with their horses\\' heads to the northward, leaving Chaloner, Edward, and Grenville together on the field of the affray. About a dozen men were lying on the ground, either dead or severely wounded: seven of them were of the king\\'s party, and the other five of the Parliamentary troops. \\'Now, what I propose,\\' said Edward, \\'is this: let us do what we can for those who are wounded, and then strip off the dresses and accouterments of those Parliamentary dragoons who are dead, and dress ourselves in them, accouterments and all.\"\\n  choice: \"To Hamilton\\'s we accordingly went on the 15th of April, 1885. Remember that--whatever my doctor may say to the contrary--I was then in perfect health, enjoying a well-balanced mind and an absolute tranquil spirit. Kitty and I entered Hamilton\\'s shop together, and there, regardless of the order of affairs, I measured Kitty for the ring in the presence of the amused assistant. The ring was a sapphire with two diamonds. We then rode out down the slope that leads to the Combermere Bridge and Peliti\\'s shop. While my Waler was cautiously feeling his way over the loose shale, and Kitty was laughing and chattering at my side--while all Simla, that is to say as much of it as had then come from the Plains, was grouped round the Reading-room and Peliti\\'s veranda,--I was aware that some one, apparently at a vast distance, was calling me by my Christian name. It struck me that I had heard the voice before, but when and where I could not at once determine. In the short space it took to cover the road between the path from Hamilton\\'s shop and the first plank of the Combermere Bridge I had thought over half a dozen people who might have committed such a solecism, and had eventually decided that it must have been singing in my ears. Immediately opposite Peliti\\'s shop my eye was arrested by the sight of four _jhampanies_ in \\'magpie\\' livery, pulling a yellow-paneled, cheap, bazar \\'rickshaw. In a moment my mind flew back to the previous season and Mrs. Wessington with a sense of irritation and disgust. Was it not enough that the woman was dead and done with, without her black and white servitors reappearing to spoil the day\\'s happiness? Whoever employed them now I thought I would call upon, and ask as a personal favor to change her _jhampanies\\'_ livery. I would hire the men myself, and, if necessary, buy their coats from off their backs. It is impossible to say here what a flood of undesirable memories their presence evoked. \\'Kitty,\\' I cried, \\'there are poor Mrs. Wessington\\'s _jhampanies_ turned up again! I wonder who has them now?\\' Kitty had known Mrs. Wessington slightly last season, and had always been interested in the sickly woman. \\'What? Where?\\' she asked. \\'I can\\'t see them anywhere.\\' Even as she spoke her horse, swerving from a laden mule, threw himself directly in front of the advancing \\'rickshaw. I had scarcely time to utter a word of warning when, to my unutterable horror, horse and rider passed through men and carriage as if they had been thin air. \\'What\\'s the matter?\\' cried Kitty; \\'what made you call out so foolishly, Jack? If I _am_ engaged I don\\'t want all creation to know about it.\"\\nA:', 'targets': ['\"When do you purpose going back to the New Forest? I think, if you will permit me, I will accompany you,\\' said Chaloner. \\'All the pursuit will be to the northward, to intercept and overtake the retreat into Scotland. I can not therefore go to Lancashire; and, indeed, as they know that I am out, they will be looking for me every where.\\' \\'Then come with me,\\' said Edward, \\'I will find you protection till you can decide what to do. Let us ride on away from this, and we will talk over the matter as we go; but depend upon it, the further south we get the safer we shall be, but still not safe, unless we can change our costume. There will be a strict search for the king to the south, as they will presume that he will try to get safe to France. Hark! what is that? I heard the report of arms. Let us ride up this hill and see what is going on.\\' They did so, and perceived that there was a skirmish between a party of Cavaliers and some of the Parliamentary cavalry, at about a quarter of a mile distant. \\'Come, Chaloner, let us at all events have one blow,\\' said Edward. \\'Agreed,\\' replied Chaloner, spurring his horse; and down they went at full speed, and in a minute were in the melee, coming on the rear of the Parliamentary troops. This sudden attack from behind decided the affair. The Parliamentary troopers, thinking that there were more than two coming upon them, made off after another minute\\'s combat, leaving five or six of their men on the ground. \\'Thanks, Chaloner! thanks, Beverley!\\' said a voice which they immediately recognized. It was that of Grenville, one of the king\\'s pages. \\'These fellows with me were just about to run, if you had not come to our aid. I will remain with them no longer, but join you if you will permit me. At all events, remain here till they go away--I will send them off.\\' Grenville then said to the men, \\'My lads, you must all separate, or there will be no chance of escape. No more than two should ride together. Depend upon it, we shall have more of the troops here directly.\\' The men, about fifteen in number, who had been in company with Grenville, considered that Chaloner\\'s advice was good, and without ceremony set off, with their horses\\' heads to the northward, leaving Chaloner, Edward, and Grenville together on the field of the affray. About a dozen men were lying on the ground, either dead or severely wounded: seven of them were of the king\\'s party, and the other five of the Parliamentary troops. \\'Now, what I propose,\\' said Edward, \\'is this: let us do what we can for those who are wounded, and then strip off the dresses and accouterments of those Parliamentary dragoons who are dead, and dress ourselves in them, accouterments and all.\"'], 'multiple_choice_targets': ['\"When do you purpose going back to the New Forest? I think, if you will permit me, I will accompany you,\\' said Chaloner. \\'All the pursuit will be to the northward, to intercept and overtake the retreat into Scotland. I can not therefore go to Lancashire; and, indeed, as they know that I am out, they will be looking for me every where.\\' \\'Then come with me,\\' said Edward, \\'I will find you protection till you can decide what to do. Let us ride on away from this, and we will talk over the matter as we go; but depend upon it, the further south we get the safer we shall be, but still not safe, unless we can change our costume. There will be a strict search for the king to the south, as they will presume that he will try to get safe to France. Hark! what is that? I heard the report of arms. Let us ride up this hill and see what is going on.\\' They did so, and perceived that there was a skirmish between a party of Cavaliers and some of the Parliamentary cavalry, at about a quarter of a mile distant. \\'Come, Chaloner, let us at all events have one blow,\\' said Edward. \\'Agreed,\\' replied Chaloner, spurring his horse; and down they went at full speed, and in a minute were in the melee, coming on the rear of the Parliamentary troops. This sudden attack from behind decided the affair. The Parliamentary troopers, thinking that there were more than two coming upon them, made off after another minute\\'s combat, leaving five or six of their men on the ground. \\'Thanks, Chaloner! thanks, Beverley!\\' said a voice which they immediately recognized. It was that of Grenville, one of the king\\'s pages. \\'These fellows with me were just about to run, if you had not come to our aid. I will remain with them no longer, but join you if you will permit me. At all events, remain here till they go away--I will send them off.\\' Grenville then said to the men, \\'My lads, you must all separate, or there will be no chance of escape. No more than two should ride together. Depend upon it, we shall have more of the troops here directly.\\' The men, about fifteen in number, who had been in company with Grenville, considered that Chaloner\\'s advice was good, and without ceremony set off, with their horses\\' heads to the northward, leaving Chaloner, Edward, and Grenville together on the field of the affray. About a dozen men were lying on the ground, either dead or severely wounded: seven of them were of the king\\'s party, and the other five of the Parliamentary troops. \\'Now, what I propose,\\' said Edward, \\'is this: let us do what we can for those who are wounded, and then strip off the dresses and accouterments of those Parliamentary dragoons who are dead, and dress ourselves in them, accouterments and all.\"', '\"To Hamilton\\'s we accordingly went on the 15th of April, 1885. Remember that--whatever my doctor may say to the contrary--I was then in perfect health, enjoying a well-balanced mind and an absolute tranquil spirit. Kitty and I entered Hamilton\\'s shop together, and there, regardless of the order of affairs, I measured Kitty for the ring in the presence of the amused assistant. The ring was a sapphire with two diamonds. We then rode out down the slope that leads to the Combermere Bridge and Peliti\\'s shop. While my Waler was cautiously feeling his way over the loose shale, and Kitty was laughing and chattering at my side--while all Simla, that is to say as much of it as had then come from the Plains, was grouped round the Reading-room and Peliti\\'s veranda,--I was aware that some one, apparently at a vast distance, was calling me by my Christian name. It struck me that I had heard the voice before, but when and where I could not at once determine. In the short space it took to cover the road between the path from Hamilton\\'s shop and the first plank of the Combermere Bridge I had thought over half a dozen people who might have committed such a solecism, and had eventually decided that it must have been singing in my ears. Immediately opposite Peliti\\'s shop my eye was arrested by the sight of four _jhampanies_ in \\'magpie\\' livery, pulling a yellow-paneled, cheap, bazar \\'rickshaw. In a moment my mind flew back to the previous season and Mrs. Wessington with a sense of irritation and disgust. Was it not enough that the woman was dead and done with, without her black and white servitors reappearing to spoil the day\\'s happiness? Whoever employed them now I thought I would call upon, and ask as a personal favor to change her _jhampanies\\'_ livery. I would hire the men myself, and, if necessary, buy their coats from off their backs. It is impossible to say here what a flood of undesirable memories their presence evoked. \\'Kitty,\\' I cried, \\'there are poor Mrs. Wessington\\'s _jhampanies_ turned up again! I wonder who has them now?\\' Kitty had known Mrs. Wessington slightly last season, and had always been interested in the sickly woman. \\'What? Where?\\' she asked. \\'I can\\'t see them anywhere.\\' Even as she spoke her horse, swerving from a laden mule, threw himself directly in front of the advancing \\'rickshaw. I had scarcely time to utter a word of warning when, to my unutterable horror, horse and rider passed through men and carriage as if they had been thin air. \\'What\\'s the matter?\\' cried Kitty; \\'what made you call out so foolishly, Jack? If I _am_ engaged I don\\'t want all creation to know about it.\"'], 'multiple_choice_scores': [1, 0], 'idx': 0}\n",
      "causal_judgment\n",
      "{'inputs': \"How would a typical person answer each of the following questions about causation?\\n\\n\\nQ: Lauren and Jane work for the same company. They each need to use a computer for work sometimes. Unfortunately, the computer isn't very powerful. If two people are logged on at the same time, it usually crashes. So the company decided to institute an official policy. It declared that Lauren would be the only one permitted to use the computer in the mornings and that Jane would be the only one permitted to use the computer in the afternoons. As expected, Lauren logged on the computer the next day at 9:00 am. But Jane decided to disobey the official policy. She also logged on at 9:00 am. The computer crashed immediately. Did Jane cause the computer to crash?\\nA:\", 'targets': ['Yes'], 'multiple_choice_targets': ['Yes', 'No'], 'multiple_choice_scores': [1, 0], 'idx': 0}\n",
      "cause_and_effect\n",
      "{'inputs': 'Which of the following sentences makes more sense?\\nexample:\\n  choice: The man went to jail because the man robbed a gas station.\\n  choice: The man robbed a gas station because the man went to jail.\\nanswer:', 'targets': ['The man went to jail because the man robbed a gas station.'], 'multiple_choice_targets': ['The man went to jail because the man robbed a gas station.', 'The man robbed a gas station because the man went to jail.'], 'multiple_choice_scores': [1, 0], 'idx': 0}\n",
      "checkmate_in_one\n",
      "{'inputs': 'In the following chess position, find a checkmate-in-one move.\\n\\n1. d4 g6 2. c3 d5 3. Qd3 Bf5 4. Qe3 Nc6 5. h3 Nf6 6. g4 Be6 7. f3 Bg7 8. Nd2 Qd6 9. Kf2 h5 10. Qd3 hxg4 11. hxg4 Rxh1 12. Kg2 Rh4 13. Nh3 Bxg4 14. fxg4 Rxg4+ 15. Kh1 O-O-O 16. Nf3 Rh8 17. Ng5 Ne4 18. Qf3 Nxg5 19. Bxg5 Rxg5 20. Qxf7 Qg3 21. Qe6+ Kb8 22. Qe3 Qxe3 23. Bg2 Rxh3+ 24. Bxh3', 'targets': ['Qxh3#'], 'multiple_choice_targets': ['Ka8', 'Bh8', 'Bf8', 'Bh6', 'Bf6', 'Be5', 'Bxd4', 'Nd8', 'Ne5', 'Na5', 'Nxd4', 'Nb4', 'Rh5', 'Rf5', 'Re5', 'Rg4', 'Rg3', 'Rg2', 'Rg1+', 'Qe6', 'Qe5', 'Qf4', 'Qe4+', 'Qxd4', 'Qxh3#', 'Qg3', 'Qf3+', 'Qd3', 'Qxc3', 'Qf2', 'Qxe2', 'Qd2', 'Qg1+', 'Qc1+', 'e6', 'b6', 'a6', 'e5', 'b5', 'a5'], 'multiple_choice_scores': [0, 0, 0, 0, 0, 0, 0, 0, 0, 0, 0, 0, 0, 0, 0, 0, 0, 0, 0, 0, 0, 0, 0, 0, 1, 0, 0, 0, 0, 0, 0, 0, 0, 0, 0, 0, 0, 0, 0, 0], 'idx': 0}\n",
      "hindu_knowledge\n",
      "{'inputs': 'Q: The Hindu deity Hanuman is depicted as which animal?\\n  choice: Elephant\\n  choice: Monkey\\n  choice: Boar\\n  choice: Fish\\nA:', 'targets': ['Monkey'], 'multiple_choice_targets': ['Elephant', 'Boar', 'Monkey', 'Fish'], 'multiple_choice_scores': [0, 0, 1, 0], 'idx': 0}\n",
      "hinglish_toxicity\n",
      "{'inputs': 'Is the sentence given below toxic?\\n\\nQ:  uttari uttarapapurv ko swasth shetra maana jata hai ai is jgah par lala narangi sunahre ur pile rung ke istemal se bachein ai inki jgah lakki ke piramid ya tulsi jaise paudhe lagayen jo bacche men prtirodhak shamta baane men kargar sabit hoti hai ai.\\nA:', 'targets': ['no'], 'multiple_choice_targets': ['yes', 'no'], 'multiple_choice_scores': [0, 1], 'idx': 0}\n",
      "hyperbaton\n",
      "{'inputs': 'Q: Which sentence has the correct adjective order: a \" midsize old grey Brazilian sweater \" b \" midsize grey Brazilian old sweater \" ?\\nA:', 'targets': ['a'], 'multiple_choice_targets': ['a', 'b'], 'multiple_choice_scores': [1, 0], 'idx': 0}\n",
      "indic_cause_and_effect\n",
      "{'inputs': 'নিম্নলিখিত বাক্যগুলির মধ্যে কোনটি আরও অর্থপূর্ণ করে তোলে?\\nউদাহরণ:\\n  choice: হঠাৎ করে কোভিড-১৯ এর প্রাদুর্ভাব দেখা দেয় কারণ দেশটি সম্পূর্ণ লকডাউনে চলে যায়।\\n  choice: দেশটি সম্পূর্ণ লকডাউনে চলে যায় কারণ হঠাৎ করে কোভিড-১৯ এর প্রাদুর্ভাব দেখা দেয়।\\nউত্তর:', 'targets': ['দেশটি সম্পূর্ণ লকডাউনে চলে যায় কারণ হঠাৎ করে কোভিড-১৯ এর প্রাদুর্ভাব দেখা দেয়।'], 'multiple_choice_targets': ['দেশটি সম্পূর্ণ লকডাউনে চলে যায় কারণ হঠাৎ করে কোভিড-১৯ এর প্রাদুর্ভাব দেখা দেয়।', 'হঠাৎ করে কোভিড-১৯ এর প্রাদুর্ভাব দেখা দেয় কারণ দেশটি সম্পূর্ণ লকডাউনে চলে যায়।'], 'multiple_choice_scores': [1, 0], 'idx': 0}\n",
      "intent_recognition\n",
      "{'inputs': 'Predict the intent of the utterance. The possible choices for the intents are: add_to_playlist, book_restaurant, get_weather, play_music, search_screening_event, search_creative_work, and rate_book.\\n\\nUtterance: Find “Worldly Goods” starting now at a movie house.\\nIntent:', 'targets': ['search_screening_event'], 'multiple_choice_targets': ['add_to_playlist', 'book_restaurant', 'get_weather', 'play_music', 'search_screening_event', 'search_creative_work', 'rate_book'], 'multiple_choice_scores': [0, 0, 0, 0, 1, 0, 0], 'idx': 0}\n",
      "international_phonetic_alphabet_nli\n",
      "{'inputs': 'This is a natural language inference test. Below are two English sentences translated to the International Phonetic Alphabet. The answer is \"entailment\" if the first sentence implies the second, \"contradiction\" if the two sentences conflict, and \"neutral\" if neither is true.\\n\\n\\nSentence 1: əm nɑt ʃʊr wət ðə ˈoʊvərˈnaɪt loʊ wɑz\\nSentence 2: aɪ doʊnt noʊ haʊ koʊld ɪt gɑt læst naɪt.\\nThe answer is:', 'targets': ['entailment'], 'multiple_choice_targets': ['neutral', 'entailment', 'contradiction'], 'multiple_choice_scores': [0, 1, 0], 'idx': 0}\n",
      "intersect_geometry\n",
      "{'inputs': 'Find the number of intersection points between the shapes and lines specified by the coordinates given.\\n\\nThere is a line segment from (-3.8, -1.1) to (1.7, -2.1). There is a polygon with coordinates [(-1.2, 3.6), (0.8, -3.2), (4.6, 2.2)]. There is a circle centered at (-2.0, -0.2) with radius 3.0. How many intersection points are there?\\nA:', 'targets': ['5'], 'multiple_choice_targets': ['0', '1', '2', '3', '4', '5', '6', '7', '8', '9', '10', '11', '12', '13', '14', '15', '16', '17', '18', '19', '20', '21', '22', '23', '24', '25', '26', '27', '28', '29', '30', '31', '32', '33', '34', '35', '36', '37', '38', '39', '40'], 'multiple_choice_scores': [0, 0, 0, 0, 0, 1, 0, 0, 0, 0, 0, 0, 0, 0, 0, 0, 0, 0, 0, 0, 0, 0, 0, 0, 0, 0, 0, 0, 0, 0, 0, 0, 0, 0, 0, 0, 0, 0, 0, 0, 0], 'idx': 14458}\n",
      "irony_identification\n",
      "{'inputs': \"Are the given example sentences examples of irony or not? Respond 'ironic' or 'not ironic' to each example.\\n\\nExample: Sometimes people need a high five to cheer them up. You never know how someone's day has been.\\nIronic/Not ironic?\", 'targets': ['not ironic'], 'multiple_choice_targets': ['ironic', 'not ironic'], 'multiple_choice_scores': [0, 1], 'idx': 0}\n",
      "kanji_ascii\n",
      "{'inputs': \"Q: ##############.\\n.#....#.#....#.\\n..##..#..##..#.\\n...##.#...##.#.\\n..##..#..##..#.\\n###...#.##...#.\\n....####...###.\\n.......#.......\\n.#############.\\n....#.....#....\\n....#.....#....\\n....#....##....\\n....##...##....\\n###############\\n  choice: in distress, provoking, irritating, impatient, vexed\\n  choice: towering, lofty, steep\\n  choice: kick with hoof, horse's gallop\\n  choice: door stop, door jam, touch\\n  choice: the following, next\\nA:\", 'targets': ['the following, next'], 'multiple_choice_targets': ['door stop, door jam, touch', 'towering, lofty, steep', 'the following, next', 'in distress, provoking, irritating, impatient, vexed', \"kick with hoof, horse's gallop\"], 'multiple_choice_scores': [0, 0, 1, 0, 0], 'idx': 0}\n",
      "kannada\n",
      "{'inputs': 'Q: ಒಂದೇ ಕುಪ್ಪಿಲಿ, ಎರಡು ತರಾ ತುಪ್ಪ!  ನಾನು ಯಾರು?\\n  choice: ತಿಗಣೆ\\n  choice: ಮೊಟ್ಟೆ\\n  choice: ಆನೆ\\n  choice: ಬೆಕ್ಕು\\nA:', 'targets': ['ಮೊಟ್ಟೆ'], 'multiple_choice_targets': ['ಆನೆ', 'ತಿಗಣೆ', 'ಮೊಟ್ಟೆ', 'ಬೆಕ್ಕು'], 'multiple_choice_scores': [0, 0, 1, 0], 'idx': 0}\n",
      "key_value_maps\n",
      "{'inputs': 'Let us consider maps from keys to values. We can view them as partial functions from keys to values, or alternatively, as sets of pairs of keys and values, with the restriction that no key appears more than once. We will use m, m1, m2, ... to denote maps, k, k1, k2, ... to denote keys, and v, v1, v2, ... to denote values. We say that a map m1 extends a map m2 if for all keys that m2 associates to some value, m1 associates it to the same value.\\nQ: Is it true that for any two maps, if they extend each other, then they contain exactly the same pairs of keys and values?\\nA:', 'targets': ['Yes'], 'multiple_choice_targets': ['Yes', 'No'], 'multiple_choice_scores': [1, 0], 'idx': 0}\n",
      "salient_translation_error_detection\n",
      "{'inputs': 'The following translations from German to English contain a particular error. That error will be one of the following types:\\nNamed Entities: An entity (names, places, locations, etc.) is changed to a different entity.\\nNumerical Values: Numerical values (ordinals or cardinals), dates, and/or units are changed.\\nModifiers or Adjectives: The modifiers and adjectives pertaining to a noun are changed.\\nNegation or Antonyms: Introduce or remove a negation or change comparatives to their antonyms.\\nFacts: Trivial factual errors not pertaining to the above classes are introduced in the translations.\\nDropped Content: A significant clause in the translation is removed.\\nPlease identify that error.\\n\\nSource: Karl Borromäus Joseph Fürst von Liechtenstein war ein kaiserlicher Feldmarschall.\\nTranslation: Charles Borromeo Joseph Prince of Liechtenstein was an judicial field marshal.\\nThe translation contains an error pertaining to', 'targets': ['Modifiers or Adjectives'], 'multiple_choice_targets': ['Modifiers or Adjectives', 'Numerical Values', 'Negation or Antonyms', 'Named Entities', 'Dropped Content', 'Facts'], 'multiple_choice_scores': [1, 0, 0, 0, 0, 0], 'idx': 0}\n",
      "snarks\n",
      "{'inputs': \"Q: Which statement is sarcastic? (a) He's a generous person, trying to promote a charity stream that has raised millions to help kids in need. (b) He's a terrible person, trying to promote a charity stream that has raised millions to help kids in need.\\nA:\", 'targets': ['(b)'], 'multiple_choice_targets': ['(a)', '(b)'], 'multiple_choice_scores': [0, 1], 'idx': 0}\n",
      "social_iqa\n",
      "{'inputs': 'Q: Addison wanted breakfast in the morning so they ate cereal. What does Addison need to do before this? \\n  choice: Pour the cereal in the bowl\\n  choice: Think about pouring cereal in the bowl\\n  choice: Wanted something quick\\nA:', 'targets': ['Pour the cereal in the bowl'], 'multiple_choice_targets': ['Wanted something quick', 'Pour the cereal in the bowl', 'Think about pouring cereal in the bowl'], 'multiple_choice_scores': [0, 1, 0], 'idx': 0}\n",
      "social_support\n",
      "{'inputs': 'Q: Is the following reply unsupportive, neutral, or supportive?\\n\\nNote that this has not been addressed yet.\\n  choice: neutral\\n  choice: supportive\\n  choice: unsupportive\\nA:', 'targets': ['neutral'], 'multiple_choice_targets': ['unsupportive', 'neutral', 'supportive'], 'multiple_choice_scores': [0, 1, 0], 'idx': 0}\n",
      "sports_understanding\n",
      "{'inputs': 'Determine whether the following statement or statements are plausible or implausible:\\nStatement: Trevor Bauer swung to protect the runner in the World Series\\nPlausible/implausible?', 'targets': ['plausible'], 'multiple_choice_targets': ['plausible', 'implausible'], 'multiple_choice_scores': [1, 0], 'idx': 0}\n",
      "strange_stories\n",
      "{'inputs': 'Context: Today James is going to Claire\\'s house for the first time. He is going over for tea, and he is looking forward to seeing Claire\\'s dog, which she talks about all the time. James likes dogs very much. When James arrives at Claire\\'s house, Claire runs to open the door, and her dog jumps up to greet James. Claire\\'s dog is huge, it\\'s almost as big as James! When James sees Claire\\'s huge dog he says, \"Claire, you haven\\'t got a dog at all. You\\'ve got an elephant!\"\\nQ: Does Claire think she has got an elephant?\\n  choice: yes\\n  choice: no\\nA:', 'targets': ['no'], 'multiple_choice_targets': ['no', 'yes'], 'multiple_choice_scores': [1, 0], 'idx': 0}\n",
      "strategyqa\n",
      "{'inputs': 'Q: Was the Louisiana Purchase made with bitcoin?\\nA:', 'targets': ['No. Bitcoin was launched as a currency in 2009. The Louisiana Purchase was in 1803.'], 'multiple_choice_targets': ['Yes', 'No'], 'multiple_choice_scores': [0, 1], 'idx': 0}\n",
      "swahili_english_proverbs\n",
      "{'inputs': 'For the given proverb/idiom in Swahili, give the proverb/idiom in English which is closest to it in meaning.\\n\\nSwahili proverb: Akiba haiozi\\n  choice: Every bean has its black\\n  choice: Revenge is a dish best served cold\\n  choice: A penny saved is a penny gained\\n  choice: Little thieves are hanged, but great ones escape\\nEquivalent English proverb:', 'targets': ['A penny saved is a penny gained'], 'multiple_choice_targets': ['A penny saved is a penny gained', 'Little thieves are hanged, but great ones escape', 'Revenge is a dish best served cold', 'Every bean has its black'], 'multiple_choice_scores': [1, 0, 0, 0], 'idx': 0}\n",
      "swedish_to_german_proverbs\n",
      "{'inputs': 'Swedish proverb: Man kan inte lära gamla hundar sitta.\\n  choice: An der Leine fängt der Hund keinen Hasen.\\n  choice: Was Hänschen nicht lernt, lernt Hans nimmermehr.\\n  choice: Alte Hunde lernen keinen neuen Tricks.\\n  choice: Sitzt, wackelt und hat Luft.\\nGerman equivalent:', 'targets': ['Was Hänschen nicht lernt, lernt Hans nimmermehr.'], 'multiple_choice_targets': ['Alte Hunde lernen keinen neuen Tricks.', 'An der Leine fängt der Hund keinen Hasen.', 'Sitzt, wackelt und hat Luft.', 'Was Hänschen nicht lernt, lernt Hans nimmermehr.'], 'multiple_choice_scores': [0, 0, 0, 1], 'idx': 0}\n",
      "symbol_interpretation\n",
      "{'inputs': 'In the SIT-adversarial world a structure is a sequence of six emojis.\\nHereafter are reported the emojis used along with their descriptions.\\n 🔺 is a red circle;\\n 🟦 is a blue circle;\\n 🔴 is a yellow circle;\\n 🟥 is a red triangle pointing up;\\n 🟨 is a red triangle pointing down;\\n 🔻 is a red square;\\n 🟡 is a blue square;\\n _ is a yellow square;\\n 🔵 is an empty space.\\n\\nChoose the sentence consistent with the structure 🟡 _ 🟦 🟡 🔴 🔵 and not consistent with 🟨 🟦 🟦 🟡 🟨 🔵:\\n\\n  choice: There are zero circles or exactly two triangles.\\n\\n  choice: There is exactly one yellow square or zero red circles.\\n\\n  choice: There are zero red pieces or zero circles.\\n\\n  choice: There are at least two blue pieces and at most two circles.\\n\\n  choice: There is exactly one red circle and zero red pieces.\\n\\nA:', 'targets': ['There are zero red pieces or zero circles.'], 'multiple_choice_targets': ['There are at least two blue pieces and at most two circles.', 'There are zero circles or exactly two triangles.', 'There are zero red pieces or zero circles.', 'There is exactly one red circle and zero red pieces.', 'There is exactly one yellow square or zero red circles.'], 'multiple_choice_scores': [0, 0, 1, 0, 0], 'idx': 0}\n",
      "temporal_sequences\n",
      "{'inputs': 'Today, Susan went to the gas station. Between what times could they have gone?\\nWe know that: \\nSusan woke up at 7am.\\nLeslie saw Susan playing tennis at the tennis court from 7am to 8am.\\nSteven saw Susan driving to the water park from 1pm to 2pm.\\nThomas saw Susan buying lunch at the deli from 2pm to 7pm.\\nThe gas station was closed after 7pm.\\nBetween what times could Susan have gone to the gas station?\\n  choice: 2pm to 7pm\\n  choice: 8am to 1pm\\n  choice: 1pm to 2pm\\n  choice: 7am to 8am\\nPossible times:', 'targets': ['8am to 1pm'], 'multiple_choice_targets': ['8am to 1pm', '2pm to 7pm', '1pm to 2pm', '7am to 8am'], 'multiple_choice_scores': [1, 0, 0, 0], 'idx': 0}\n",
      "logical_deduction\n",
      "{'inputs': 'The following paragraphs each describe a set of five objects arranged in a fixed order. The statements are logically consistent within each paragraph.\\n\\nOn a branch, there are five birds: a quail, an owl, a raven, a falcon, and a robin. The owl is the leftmost. The robin is to the left of the raven. The quail is the rightmost. The raven is the third from the left.', 'targets': ['The quail is the rightmost.'], 'multiple_choice_targets': ['The quail is the rightmost.', 'The owl is the rightmost.', 'The raven is the rightmost.', 'The falcon is the rightmost.', 'The robin is the rightmost.'], 'multiple_choice_scores': [1, 0, 0, 0, 0], 'idx': 0}\n",
      "dark_humor_detection\n",
      "{'inputs': 'Identify whether the following examples are intended to be a joke (with dark humor) or not, by responding \"joke\" or \"not a joke\".\\n\\nExample: It\\'s important to have a good vocabulary. I wish I had known the difference between the words \\'antidote\\' and \\'anecdote.\\' It was on the quiz today at my English class.\\nJoke or not?', 'targets': ['not a joke'], 'multiple_choice_targets': ['joke', 'not a joke'], 'multiple_choice_scores': [0, 1], 'idx': 0}\n",
      "1600\n",
      "[{'instruction': 'Provide the corresponding options or responses for the following questions.\\nQuestion: In what follows, we provide short narratives, each of which illustrates a common proverb. \\nNarrative: Dwayne was a singer.  He went to a bar to party with his friends and got drunk.  In his drunken stupor, Dwayne put on a bikini top and danced on the bar.  Pictures of Dwayne got into the papers everywhere!  At first Dwayne was embarrassed, but then he realized that once his face was everywhere, people were buying his albums more than ever!\\nThis narrative is a good illustration of the following proverb:\\nA. A prophet is not recognized in his own land\\nB. Flattery will get you nowhere\\nC. Bad news travels fast\\nD. Seek and you shall find\\nE. All publicity is good publicity\\nAnswer is:', 'input': '', 'output': 'E'}, {'instruction': \"Provide the corresponding options or responses for the following questions.\\nQuestion: In what follows, we provide short narratives, each of which illustrates a common proverb. \\nNarrative: Fran was sure she had just purchased the winning ticket. As she walked home from the store she must have dropped it because it was not in her pocket when she checked. Meanwhile, Gina was taking the same path as Fran had walked. Gina saw a lottery ticket in the grass. She bent over and picked it up. That night the winning numbers were announced. Gina was thrilled to find out she was now the recipient of an $80,000 prize.\\nThis narrative is a good illustration of the following proverb:\\nA. Cheaters never win and winners never cheat\\nB. What's sauce for the goose is sauce for the gander\\nC. Finders keepers, losers weepers\\nD. Little things please little minds\\nE. Seek and you shall find\\nAnswer is:\", 'input': '', 'output': 'C'}]\n",
      "1600\n"
     ]
    }
   ],
   "source": [
    "import random\n",
    "print(\"stage1\")\n",
    "mmlu_train = []\n",
    "select_names = []\n",
    "# prefix = \"Below is an instruction that describes a task. Write a response that appropriately completes the request.\"\n",
    "for Name in mmlu_datas:\n",
    "    if Name in ['auto_categorization']: continue\n",
    "    print(Name)\n",
    "    data_train = mmlu_datas[Name]\n",
    "    if len(data_train[0]['multiple_choice_scores'])==0 : continue\n",
    "    select_names.append(Name)\n",
    "    print(data_train[0])\n",
    "    random.seed(len(Name))\n",
    "    random_mmlu = random.sample(range(len(data_train)),min(len(data_train),50))\n",
    "    select_mmlu = []\n",
    "    for num in random_mmlu:\n",
    "        nd = {}\n",
    "        tt = data_train[num]\n",
    "        prompt,answer_txt = get_prompt_answer(tt)\n",
    "        nd[\"instruction\"] = f\"{prompt}\"\n",
    "        nd[\"input\"] = \"\"\n",
    "        nd[\"output\"] = answer_txt\n",
    "        select_mmlu.append(nd)\n",
    "    mmlu_train.extend(select_mmlu)\n",
    "\n",
    "print(len(mmlu_train))\n",
    "\n",
    "print(mmlu_train[0:2])\n",
    "print(len(mmlu_train))"
   ]
  },
  {
   "cell_type": "code",
   "execution_count": null,
   "metadata": {},
   "outputs": [
    {
     "ename": "NameError",
     "evalue": "name 'mmlu_train' is not defined",
     "output_type": "error",
     "traceback": [
      "\u001b[0;31m---------------------------------------------------------------------------\u001b[0m",
      "\u001b[0;31mNameError\u001b[0m                                 Traceback (most recent call last)",
      "\u001b[1;32m/Users/xiayu/Documents/nips_train/final_dataset/bigbench.ipynb 单元格 6\u001b[0m line \u001b[0;36m2\n\u001b[1;32m      <a href='vscode-notebook-cell:/Users/xiayu/Documents/nips_train/final_dataset/bigbench.ipynb#X22sZmlsZQ%3D%3D?line=0'>1</a>\u001b[0m \u001b[39mimport\u001b[39;00m \u001b[39mjson\u001b[39;00m\n\u001b[0;32m----> <a href='vscode-notebook-cell:/Users/xiayu/Documents/nips_train/final_dataset/bigbench.ipynb#X22sZmlsZQ%3D%3D?line=1'>2</a>\u001b[0m \u001b[39mwith\u001b[39;00m \u001b[39mopen\u001b[39m(\u001b[39mf\u001b[39m\u001b[39m'\u001b[39m\u001b[39mdatas/bigbench_\u001b[39m\u001b[39m{\u001b[39;00m\u001b[39mlen\u001b[39m(mmlu_train)\u001b[39m}\u001b[39;00m\u001b[39m_raw.json\u001b[39m\u001b[39m'\u001b[39m, \u001b[39m'\u001b[39m\u001b[39mw\u001b[39m\u001b[39m'\u001b[39m) \u001b[39mas\u001b[39;00m output_file:\n\u001b[1;32m      <a href='vscode-notebook-cell:/Users/xiayu/Documents/nips_train/final_dataset/bigbench.ipynb#X22sZmlsZQ%3D%3D?line=2'>3</a>\u001b[0m     json\u001b[39m.\u001b[39mdump(mmlu_train, output_file, indent\u001b[39m=\u001b[39m\u001b[39m4\u001b[39m)\n\u001b[1;32m      <a href='vscode-notebook-cell:/Users/xiayu/Documents/nips_train/final_dataset/bigbench.ipynb#X22sZmlsZQ%3D%3D?line=3'>4</a>\u001b[0m \u001b[39mprint\u001b[39m(select_names)\n",
      "\u001b[0;31mNameError\u001b[0m: name 'mmlu_train' is not defined"
     ]
    }
   ],
   "source": [
    "import json\n",
    "with open(f'datas/bigbench_{len(mmlu_train)}_raw.json', 'w') as output_file:\n",
    "    json.dump(mmlu_train, output_file, indent=4)\n",
    "print(select_names)"
   ]
  },
  {
   "cell_type": "code",
   "execution_count": null,
   "metadata": {},
   "outputs": [
    {
     "data": {
      "text/plain": [
       "1600"
      ]
     },
     "execution_count": 93,
     "metadata": {},
     "output_type": "execute_result"
    }
   ],
   "source": [
    "len(mmlu_train)"
   ]
  },
  {
   "cell_type": "markdown",
   "metadata": {},
   "source": []
  }
 ],
 "metadata": {
  "kernelspec": {
   "display_name": "base",
   "language": "python",
   "name": "python3"
  },
  "language_info": {
   "codemirror_mode": {
    "name": "ipython",
    "version": 3
   },
   "file_extension": ".py",
   "mimetype": "text/x-python",
   "name": "python",
   "nbconvert_exporter": "python",
   "pygments_lexer": "ipython3",
   "version": "3.11.4"
  },
  "orig_nbformat": 4
 },
 "nbformat": 4,
 "nbformat_minor": 2
}
