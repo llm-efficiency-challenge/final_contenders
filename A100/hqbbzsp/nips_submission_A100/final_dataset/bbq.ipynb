{
 "cells": [
  {
   "cell_type": "code",
   "execution_count": 4,
   "metadata": {},
   "outputs": [],
   "source": [
    "# # 使用 read_parquet 加载bbq\n",
    "# import pandas as pd\n",
    "# from pandas import read_parquet\n",
    "# import json\n",
    "# data = read_parquet(\"datas/train.parquet\")\n",
    "# sampled_data = data.sample(n=data.count()[0])\n",
    "# sampled_data.to_json(\"datas/bbq_all.jsonl\", orient=\"records\", lines=True)\n"
   ]
  },
  {
   "cell_type": "code",
   "execution_count": 5,
   "metadata": {},
   "outputs": [],
   "source": [
    "import json\n",
    "with open(\"datas/bbq_all copy.jsonl\", 'r') as json_file:\n",
    "    bbq = [json.loads(line) for line in json_file]"
   ]
  },
  {
   "cell_type": "code",
   "execution_count": 6,
   "metadata": {},
   "outputs": [],
   "source": [
    "def get_prompt_answer(data):\n",
    "    total_len = len(data['multiple_choice_targets'])\n",
    "    choice_txt = \"\"\n",
    "    for i in range(total_len):\n",
    "        choice_txt += chr(ord('A')+i)+\". \"+data['multiple_choice_targets'][i]+\"\\n\"\n",
    "    prompt = f'The following are multiple choice questions (with answers).Answer the following question based on the passage. You only need to provide the corresponding A B C D options without anyother output.\\n'\n",
    "    context = data['inputs'].split('\\n')[0][3:]\n",
    "    prompt += f\"Passage & Question: {context}\\n{choice_txt}Answer: \"\n",
    "    answer_txt = chr(ord('A')+data['multiple_choice_scores'].index(1))\n",
    "    return prompt,answer_txt"
   ]
  },
  {
   "cell_type": "code",
   "execution_count": 7,
   "metadata": {},
   "outputs": [],
   "source": [
    "import random\n",
    "random.seed(7)\n",
    "random_cnn = random.sample(range(len(bbq)),8000)\n",
    "select_cnn = []\n",
    "# prefix = \"Below is an instruction that describes a task. Write a response that appropriately completes the request.\"\n",
    "prefix = \"\"\n",
    "\n",
    "for num in random_cnn:\n",
    "    nd = {}\n",
    "    tt = bbq[num]\n",
    "    prompt,answer_txt = get_prompt_answer(tt)\n",
    "    nd[\"instruction\"] = prefix+prompt\n",
    "    nd[\"input\"] = \"\"\n",
    "    nd[\"output\"] = answer_txt\n",
    "    select_cnn.append(nd)\n",
    "\n",
    "with open('datas/bbq_8000_raw_simple.json', 'w') as output_file:\n",
    "    json.dump(select_cnn, output_file, indent=4)"
   ]
  }
 ],
 "metadata": {
  "kernelspec": {
   "display_name": "base",
   "language": "python",
   "name": "python3"
  },
  "language_info": {
   "codemirror_mode": {
    "name": "ipython",
    "version": 3
   },
   "file_extension": ".py",
   "mimetype": "text/x-python",
   "name": "python",
   "nbconvert_exporter": "python",
   "pygments_lexer": "ipython3",
   "version": "3.11.4"
  },
  "orig_nbformat": 4
 },
 "nbformat": 4,
 "nbformat_minor": 2
}
