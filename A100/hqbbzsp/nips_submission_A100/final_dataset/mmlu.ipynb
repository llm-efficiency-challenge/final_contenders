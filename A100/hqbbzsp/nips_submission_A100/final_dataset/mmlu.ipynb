{
 "cells": [
  {
   "cell_type": "code",
   "execution_count": 1,
   "metadata": {},
   "outputs": [],
   "source": [
    "_SUBJECTS = [\n",
    "    \"all\",\n",
    "    \"abstract_algebra\",\n",
    "    \"anatomy\",\n",
    "    \"astronomy\",\n",
    "    \"business_ethics\",\n",
    "    \"clinical_knowledge\",\n",
    "    \"college_biology\",\n",
    "    \"college_chemistry\",\n",
    "    \"college_computer_science\",\n",
    "    \"college_mathematics\",\n",
    "    \"college_medicine\",\n",
    "    \"college_physics\",\n",
    "    \"computer_security\",\n",
    "    \"conceptual_physics\",\n",
    "    \"econometrics\",\n",
    "    \"electrical_engineering\",\n",
    "    \"elementary_mathematics\",\n",
    "    \"formal_logic\",\n",
    "    \"global_facts\",\n",
    "    \"high_school_biology\",\n",
    "    \"high_school_chemistry\",\n",
    "    \"high_school_computer_science\",\n",
    "    \"high_school_european_history\",\n",
    "    \"high_school_geography\",\n",
    "    \"high_school_government_and_politics\",\n",
    "    \"high_school_macroeconomics\",\n",
    "    \"high_school_mathematics\",\n",
    "    \"high_school_microeconomics\",\n",
    "    \"high_school_physics\",\n",
    "    \"high_school_psychology\",\n",
    "    \"high_school_statistics\",\n",
    "    \"high_school_us_history\",\n",
    "    \"high_school_world_history\",\n",
    "    \"human_aging\",\n",
    "    \"human_sexuality\",\n",
    "    \"international_law\",\n",
    "    \"jurisprudence\",\n",
    "    \"logical_fallacies\",\n",
    "    \"machine_learning\",\n",
    "    \"management\",\n",
    "    \"marketing\",\n",
    "    \"medical_genetics\",\n",
    "    \"miscellaneous\",\n",
    "    \"moral_disputes\",\n",
    "    \"moral_scenarios\",\n",
    "    \"nutrition\",\n",
    "    \"philosophy\",\n",
    "    \"prehistory\",\n",
    "    \"professional_accounting\",\n",
    "    \"professional_law\",\n",
    "    \"professional_medicine\",\n",
    "    \"professional_psychology\",\n",
    "    \"public_relations\",\n",
    "    \"security_studies\",\n",
    "    \"sociology\",\n",
    "    \"us_foreign_policy\",\n",
    "    \"virology\",\n",
    "    \"world_religions\",\n",
    "]\n",
    "\n",
    "SELECT_SUBJECTS=[\n",
    "    \"philosophy\",\n",
    "    \"high_school_biology\",\n",
    "    \"high_school_chemistry\",\n",
    "    \"high_school_computer_science\",\n",
    "    \"high_school_european_history\",\n",
    "    \"high_school_geography\",\n",
    "    \"high_school_government_and_politics\",\n",
    "    \"high_school_macroeconomics\",\n",
    "    \"high_school_mathematics\",\n",
    "    \"high_school_microeconomics\",\n",
    "    \"high_school_physics\",\n",
    "    \"high_school_psychology\",\n",
    "    \"high_school_statistics\",\n",
    "    \"high_school_us_history\",\n",
    "    \"high_school_world_history\",\n",
    "    \"moral_disputes\",\n",
    "    \"moral_scenarios\",\n",
    "]\n",
    "\n",
    "SAMPLE_SUBJECTS = [item for item in _SUBJECTS if item not in set(SELECT_SUBJECTS)]\n"
   ]
  },
  {
   "cell_type": "code",
   "execution_count": 2,
   "metadata": {},
   "outputs": [],
   "source": [
    "def get_prompt_answer(name,question,choices,answer):\n",
    "    total_len = len(choices)\n",
    "    choice_txt = \"\"\n",
    "    for i in range(total_len):\n",
    "        choice_txt += chr(ord('A')+i)+\". \"+choices[i]+\"\\n\"\n",
    "    # prompt = f'Answer the following question (with answers) about {\" \".join(name.split(\"_\"))}.\\n\\n'\n",
    "    prompt = f'Answer the following question (with answers).You only need to provide the corresponding options without any other output.\\n\\n'\n",
    "    prompt += f'Question: {question}\\n{choice_txt}Answer: '\n",
    "    answer_txt = chr(ord('A')+answer)\n",
    "    return prompt,answer_txt\n",
    "    \n",
    "    "
   ]
  },
  {
   "cell_type": "code",
   "execution_count": 3,
   "metadata": {},
   "outputs": [
    {
     "name": "stderr",
     "output_type": "stream",
     "text": [
      "Found cached dataset mmlu (/Users/xiayu/.cache/huggingface/datasets/cais___mmlu/all/1.0.0/49beb454d1ef6d7994f43183dc194713f39dd672b4f5a92c08b0b394991910c7)\n"
     ]
    },
    {
     "data": {
      "application/vnd.jupyter.widget-view+json": {
       "model_id": "20677a37e58c4cc4a1ef3d86dc2008d2",
       "version_major": 2,
       "version_minor": 0
      },
      "text/plain": [
       "  0%|          | 0/4 [00:00<?, ?it/s]"
      ]
     },
     "metadata": {},
     "output_type": "display_data"
    },
    {
     "name": "stderr",
     "output_type": "stream",
     "text": [
      "Found cached dataset mmlu (/Users/xiayu/.cache/huggingface/datasets/cais___mmlu/abstract_algebra/1.0.0/49beb454d1ef6d7994f43183dc194713f39dd672b4f5a92c08b0b394991910c7)\n"
     ]
    },
    {
     "data": {
      "application/vnd.jupyter.widget-view+json": {
       "model_id": "aa60601042e34b83aa8778e21934f02d",
       "version_major": 2,
       "version_minor": 0
      },
      "text/plain": [
       "  0%|          | 0/4 [00:00<?, ?it/s]"
      ]
     },
     "metadata": {},
     "output_type": "display_data"
    },
    {
     "name": "stderr",
     "output_type": "stream",
     "text": [
      "Found cached dataset mmlu (/Users/xiayu/.cache/huggingface/datasets/cais___mmlu/anatomy/1.0.0/49beb454d1ef6d7994f43183dc194713f39dd672b4f5a92c08b0b394991910c7)\n"
     ]
    },
    {
     "data": {
      "application/vnd.jupyter.widget-view+json": {
       "model_id": "9f79df23acf64d5e8fab398d3d8f470d",
       "version_major": 2,
       "version_minor": 0
      },
      "text/plain": [
       "  0%|          | 0/4 [00:00<?, ?it/s]"
      ]
     },
     "metadata": {},
     "output_type": "display_data"
    },
    {
     "name": "stderr",
     "output_type": "stream",
     "text": [
      "Found cached dataset mmlu (/Users/xiayu/.cache/huggingface/datasets/cais___mmlu/astronomy/1.0.0/49beb454d1ef6d7994f43183dc194713f39dd672b4f5a92c08b0b394991910c7)\n"
     ]
    },
    {
     "data": {
      "application/vnd.jupyter.widget-view+json": {
       "model_id": "e2927e3e98d54e6286823d79172f21da",
       "version_major": 2,
       "version_minor": 0
      },
      "text/plain": [
       "  0%|          | 0/4 [00:00<?, ?it/s]"
      ]
     },
     "metadata": {},
     "output_type": "display_data"
    },
    {
     "name": "stderr",
     "output_type": "stream",
     "text": [
      "Found cached dataset mmlu (/Users/xiayu/.cache/huggingface/datasets/cais___mmlu/business_ethics/1.0.0/49beb454d1ef6d7994f43183dc194713f39dd672b4f5a92c08b0b394991910c7)\n"
     ]
    },
    {
     "data": {
      "application/vnd.jupyter.widget-view+json": {
       "model_id": "cc4de25ff3d34ed9a0fa82a8e0a6a9ee",
       "version_major": 2,
       "version_minor": 0
      },
      "text/plain": [
       "  0%|          | 0/4 [00:00<?, ?it/s]"
      ]
     },
     "metadata": {},
     "output_type": "display_data"
    },
    {
     "name": "stderr",
     "output_type": "stream",
     "text": [
      "Found cached dataset mmlu (/Users/xiayu/.cache/huggingface/datasets/cais___mmlu/clinical_knowledge/1.0.0/49beb454d1ef6d7994f43183dc194713f39dd672b4f5a92c08b0b394991910c7)\n"
     ]
    },
    {
     "data": {
      "application/vnd.jupyter.widget-view+json": {
       "model_id": "3412cc8553194b449014d4d93c430f42",
       "version_major": 2,
       "version_minor": 0
      },
      "text/plain": [
       "  0%|          | 0/4 [00:00<?, ?it/s]"
      ]
     },
     "metadata": {},
     "output_type": "display_data"
    },
    {
     "name": "stderr",
     "output_type": "stream",
     "text": [
      "Found cached dataset mmlu (/Users/xiayu/.cache/huggingface/datasets/cais___mmlu/college_biology/1.0.0/49beb454d1ef6d7994f43183dc194713f39dd672b4f5a92c08b0b394991910c7)\n"
     ]
    },
    {
     "data": {
      "application/vnd.jupyter.widget-view+json": {
       "model_id": "53ba567918cb4dafa20b87b981065060",
       "version_major": 2,
       "version_minor": 0
      },
      "text/plain": [
       "  0%|          | 0/4 [00:00<?, ?it/s]"
      ]
     },
     "metadata": {},
     "output_type": "display_data"
    },
    {
     "name": "stderr",
     "output_type": "stream",
     "text": [
      "Found cached dataset mmlu (/Users/xiayu/.cache/huggingface/datasets/cais___mmlu/college_chemistry/1.0.0/49beb454d1ef6d7994f43183dc194713f39dd672b4f5a92c08b0b394991910c7)\n"
     ]
    },
    {
     "data": {
      "application/vnd.jupyter.widget-view+json": {
       "model_id": "a5e2caa2ca964cfd90119e538299406f",
       "version_major": 2,
       "version_minor": 0
      },
      "text/plain": [
       "  0%|          | 0/4 [00:00<?, ?it/s]"
      ]
     },
     "metadata": {},
     "output_type": "display_data"
    },
    {
     "name": "stderr",
     "output_type": "stream",
     "text": [
      "Found cached dataset mmlu (/Users/xiayu/.cache/huggingface/datasets/cais___mmlu/college_computer_science/1.0.0/49beb454d1ef6d7994f43183dc194713f39dd672b4f5a92c08b0b394991910c7)\n"
     ]
    },
    {
     "data": {
      "application/vnd.jupyter.widget-view+json": {
       "model_id": "da76ea23817d4ceb936f7f6af3d9f4c3",
       "version_major": 2,
       "version_minor": 0
      },
      "text/plain": [
       "  0%|          | 0/4 [00:00<?, ?it/s]"
      ]
     },
     "metadata": {},
     "output_type": "display_data"
    },
    {
     "name": "stderr",
     "output_type": "stream",
     "text": [
      "Found cached dataset mmlu (/Users/xiayu/.cache/huggingface/datasets/cais___mmlu/college_mathematics/1.0.0/49beb454d1ef6d7994f43183dc194713f39dd672b4f5a92c08b0b394991910c7)\n"
     ]
    },
    {
     "data": {
      "application/vnd.jupyter.widget-view+json": {
       "model_id": "055f9017a9854528a0feb346f18322c3",
       "version_major": 2,
       "version_minor": 0
      },
      "text/plain": [
       "  0%|          | 0/4 [00:00<?, ?it/s]"
      ]
     },
     "metadata": {},
     "output_type": "display_data"
    },
    {
     "name": "stderr",
     "output_type": "stream",
     "text": [
      "Found cached dataset mmlu (/Users/xiayu/.cache/huggingface/datasets/cais___mmlu/college_medicine/1.0.0/49beb454d1ef6d7994f43183dc194713f39dd672b4f5a92c08b0b394991910c7)\n"
     ]
    },
    {
     "data": {
      "application/vnd.jupyter.widget-view+json": {
       "model_id": "992d45d3d8564b50ab2645278e2e345c",
       "version_major": 2,
       "version_minor": 0
      },
      "text/plain": [
       "  0%|          | 0/4 [00:00<?, ?it/s]"
      ]
     },
     "metadata": {},
     "output_type": "display_data"
    },
    {
     "name": "stderr",
     "output_type": "stream",
     "text": [
      "Found cached dataset mmlu (/Users/xiayu/.cache/huggingface/datasets/cais___mmlu/college_physics/1.0.0/49beb454d1ef6d7994f43183dc194713f39dd672b4f5a92c08b0b394991910c7)\n"
     ]
    },
    {
     "data": {
      "application/vnd.jupyter.widget-view+json": {
       "model_id": "65862c3316e44c038b93adedfb7ef036",
       "version_major": 2,
       "version_minor": 0
      },
      "text/plain": [
       "  0%|          | 0/4 [00:00<?, ?it/s]"
      ]
     },
     "metadata": {},
     "output_type": "display_data"
    },
    {
     "name": "stderr",
     "output_type": "stream",
     "text": [
      "Found cached dataset mmlu (/Users/xiayu/.cache/huggingface/datasets/cais___mmlu/computer_security/1.0.0/49beb454d1ef6d7994f43183dc194713f39dd672b4f5a92c08b0b394991910c7)\n"
     ]
    },
    {
     "data": {
      "application/vnd.jupyter.widget-view+json": {
       "model_id": "5c5011c8a4a44a33b106e86d85c8c4ed",
       "version_major": 2,
       "version_minor": 0
      },
      "text/plain": [
       "  0%|          | 0/4 [00:00<?, ?it/s]"
      ]
     },
     "metadata": {},
     "output_type": "display_data"
    },
    {
     "name": "stderr",
     "output_type": "stream",
     "text": [
      "Found cached dataset mmlu (/Users/xiayu/.cache/huggingface/datasets/cais___mmlu/conceptual_physics/1.0.0/49beb454d1ef6d7994f43183dc194713f39dd672b4f5a92c08b0b394991910c7)\n"
     ]
    },
    {
     "data": {
      "application/vnd.jupyter.widget-view+json": {
       "model_id": "1f496beb036b47868ddf83cbcbab133f",
       "version_major": 2,
       "version_minor": 0
      },
      "text/plain": [
       "  0%|          | 0/4 [00:00<?, ?it/s]"
      ]
     },
     "metadata": {},
     "output_type": "display_data"
    },
    {
     "name": "stderr",
     "output_type": "stream",
     "text": [
      "Found cached dataset mmlu (/Users/xiayu/.cache/huggingface/datasets/cais___mmlu/econometrics/1.0.0/49beb454d1ef6d7994f43183dc194713f39dd672b4f5a92c08b0b394991910c7)\n"
     ]
    },
    {
     "data": {
      "application/vnd.jupyter.widget-view+json": {
       "model_id": "bd03f1bd1135402091c155c43f96e504",
       "version_major": 2,
       "version_minor": 0
      },
      "text/plain": [
       "  0%|          | 0/4 [00:00<?, ?it/s]"
      ]
     },
     "metadata": {},
     "output_type": "display_data"
    },
    {
     "name": "stderr",
     "output_type": "stream",
     "text": [
      "Found cached dataset mmlu (/Users/xiayu/.cache/huggingface/datasets/cais___mmlu/electrical_engineering/1.0.0/49beb454d1ef6d7994f43183dc194713f39dd672b4f5a92c08b0b394991910c7)\n"
     ]
    },
    {
     "data": {
      "application/vnd.jupyter.widget-view+json": {
       "model_id": "1e69d78fe6d44f78a0811a0a0a71e5b1",
       "version_major": 2,
       "version_minor": 0
      },
      "text/plain": [
       "  0%|          | 0/4 [00:00<?, ?it/s]"
      ]
     },
     "metadata": {},
     "output_type": "display_data"
    },
    {
     "name": "stderr",
     "output_type": "stream",
     "text": [
      "Found cached dataset mmlu (/Users/xiayu/.cache/huggingface/datasets/cais___mmlu/elementary_mathematics/1.0.0/49beb454d1ef6d7994f43183dc194713f39dd672b4f5a92c08b0b394991910c7)\n"
     ]
    },
    {
     "data": {
      "application/vnd.jupyter.widget-view+json": {
       "model_id": "f7c3d370470f4f7894b379afc2c9253a",
       "version_major": 2,
       "version_minor": 0
      },
      "text/plain": [
       "  0%|          | 0/4 [00:00<?, ?it/s]"
      ]
     },
     "metadata": {},
     "output_type": "display_data"
    },
    {
     "name": "stderr",
     "output_type": "stream",
     "text": [
      "Found cached dataset mmlu (/Users/xiayu/.cache/huggingface/datasets/cais___mmlu/formal_logic/1.0.0/49beb454d1ef6d7994f43183dc194713f39dd672b4f5a92c08b0b394991910c7)\n"
     ]
    },
    {
     "data": {
      "application/vnd.jupyter.widget-view+json": {
       "model_id": "b0f40bf0b4ac4a22b0060087ea863189",
       "version_major": 2,
       "version_minor": 0
      },
      "text/plain": [
       "  0%|          | 0/4 [00:00<?, ?it/s]"
      ]
     },
     "metadata": {},
     "output_type": "display_data"
    },
    {
     "name": "stderr",
     "output_type": "stream",
     "text": [
      "Found cached dataset mmlu (/Users/xiayu/.cache/huggingface/datasets/cais___mmlu/global_facts/1.0.0/49beb454d1ef6d7994f43183dc194713f39dd672b4f5a92c08b0b394991910c7)\n"
     ]
    },
    {
     "data": {
      "application/vnd.jupyter.widget-view+json": {
       "model_id": "afc3a3981b1f48d487eb88c6ea25fdfd",
       "version_major": 2,
       "version_minor": 0
      },
      "text/plain": [
       "  0%|          | 0/4 [00:00<?, ?it/s]"
      ]
     },
     "metadata": {},
     "output_type": "display_data"
    },
    {
     "name": "stderr",
     "output_type": "stream",
     "text": [
      "Found cached dataset mmlu (/Users/xiayu/.cache/huggingface/datasets/cais___mmlu/human_aging/1.0.0/49beb454d1ef6d7994f43183dc194713f39dd672b4f5a92c08b0b394991910c7)\n"
     ]
    },
    {
     "data": {
      "application/vnd.jupyter.widget-view+json": {
       "model_id": "289103efb79e4667949e7cc62cbf3216",
       "version_major": 2,
       "version_minor": 0
      },
      "text/plain": [
       "  0%|          | 0/4 [00:00<?, ?it/s]"
      ]
     },
     "metadata": {},
     "output_type": "display_data"
    },
    {
     "name": "stderr",
     "output_type": "stream",
     "text": [
      "Found cached dataset mmlu (/Users/xiayu/.cache/huggingface/datasets/cais___mmlu/human_sexuality/1.0.0/49beb454d1ef6d7994f43183dc194713f39dd672b4f5a92c08b0b394991910c7)\n"
     ]
    },
    {
     "data": {
      "application/vnd.jupyter.widget-view+json": {
       "model_id": "d644457fb0764ee09c62ced159b7bba8",
       "version_major": 2,
       "version_minor": 0
      },
      "text/plain": [
       "  0%|          | 0/4 [00:00<?, ?it/s]"
      ]
     },
     "metadata": {},
     "output_type": "display_data"
    },
    {
     "name": "stderr",
     "output_type": "stream",
     "text": [
      "Found cached dataset mmlu (/Users/xiayu/.cache/huggingface/datasets/cais___mmlu/international_law/1.0.0/49beb454d1ef6d7994f43183dc194713f39dd672b4f5a92c08b0b394991910c7)\n"
     ]
    },
    {
     "data": {
      "application/vnd.jupyter.widget-view+json": {
       "model_id": "15fdfb62988e4d03b75c97b3c7ed0949",
       "version_major": 2,
       "version_minor": 0
      },
      "text/plain": [
       "  0%|          | 0/4 [00:00<?, ?it/s]"
      ]
     },
     "metadata": {},
     "output_type": "display_data"
    },
    {
     "name": "stderr",
     "output_type": "stream",
     "text": [
      "Found cached dataset mmlu (/Users/xiayu/.cache/huggingface/datasets/cais___mmlu/jurisprudence/1.0.0/49beb454d1ef6d7994f43183dc194713f39dd672b4f5a92c08b0b394991910c7)\n"
     ]
    },
    {
     "data": {
      "application/vnd.jupyter.widget-view+json": {
       "model_id": "be3f425de82541ea91b04afe320f817d",
       "version_major": 2,
       "version_minor": 0
      },
      "text/plain": [
       "  0%|          | 0/4 [00:00<?, ?it/s]"
      ]
     },
     "metadata": {},
     "output_type": "display_data"
    },
    {
     "name": "stderr",
     "output_type": "stream",
     "text": [
      "Found cached dataset mmlu (/Users/xiayu/.cache/huggingface/datasets/cais___mmlu/logical_fallacies/1.0.0/49beb454d1ef6d7994f43183dc194713f39dd672b4f5a92c08b0b394991910c7)\n"
     ]
    },
    {
     "data": {
      "application/vnd.jupyter.widget-view+json": {
       "model_id": "7505bea3c7c74900a3fed4e62757d370",
       "version_major": 2,
       "version_minor": 0
      },
      "text/plain": [
       "  0%|          | 0/4 [00:00<?, ?it/s]"
      ]
     },
     "metadata": {},
     "output_type": "display_data"
    },
    {
     "name": "stderr",
     "output_type": "stream",
     "text": [
      "Found cached dataset mmlu (/Users/xiayu/.cache/huggingface/datasets/cais___mmlu/machine_learning/1.0.0/49beb454d1ef6d7994f43183dc194713f39dd672b4f5a92c08b0b394991910c7)\n"
     ]
    },
    {
     "data": {
      "application/vnd.jupyter.widget-view+json": {
       "model_id": "a94cf99071254ef89e9752f5f7bc61cb",
       "version_major": 2,
       "version_minor": 0
      },
      "text/plain": [
       "  0%|          | 0/4 [00:00<?, ?it/s]"
      ]
     },
     "metadata": {},
     "output_type": "display_data"
    },
    {
     "name": "stderr",
     "output_type": "stream",
     "text": [
      "Found cached dataset mmlu (/Users/xiayu/.cache/huggingface/datasets/cais___mmlu/management/1.0.0/49beb454d1ef6d7994f43183dc194713f39dd672b4f5a92c08b0b394991910c7)\n"
     ]
    },
    {
     "data": {
      "application/vnd.jupyter.widget-view+json": {
       "model_id": "32005701fe194fbdb101e8f436ffc49c",
       "version_major": 2,
       "version_minor": 0
      },
      "text/plain": [
       "  0%|          | 0/4 [00:00<?, ?it/s]"
      ]
     },
     "metadata": {},
     "output_type": "display_data"
    },
    {
     "name": "stderr",
     "output_type": "stream",
     "text": [
      "Found cached dataset mmlu (/Users/xiayu/.cache/huggingface/datasets/cais___mmlu/marketing/1.0.0/49beb454d1ef6d7994f43183dc194713f39dd672b4f5a92c08b0b394991910c7)\n"
     ]
    },
    {
     "data": {
      "application/vnd.jupyter.widget-view+json": {
       "model_id": "1ebbea5ad8054d46993892f5fdfbed3b",
       "version_major": 2,
       "version_minor": 0
      },
      "text/plain": [
       "  0%|          | 0/4 [00:00<?, ?it/s]"
      ]
     },
     "metadata": {},
     "output_type": "display_data"
    },
    {
     "name": "stderr",
     "output_type": "stream",
     "text": [
      "Found cached dataset mmlu (/Users/xiayu/.cache/huggingface/datasets/cais___mmlu/medical_genetics/1.0.0/49beb454d1ef6d7994f43183dc194713f39dd672b4f5a92c08b0b394991910c7)\n"
     ]
    },
    {
     "data": {
      "application/vnd.jupyter.widget-view+json": {
       "model_id": "a36f1414f923448a934aac44d7e37179",
       "version_major": 2,
       "version_minor": 0
      },
      "text/plain": [
       "  0%|          | 0/4 [00:00<?, ?it/s]"
      ]
     },
     "metadata": {},
     "output_type": "display_data"
    },
    {
     "name": "stderr",
     "output_type": "stream",
     "text": [
      "Found cached dataset mmlu (/Users/xiayu/.cache/huggingface/datasets/cais___mmlu/miscellaneous/1.0.0/49beb454d1ef6d7994f43183dc194713f39dd672b4f5a92c08b0b394991910c7)\n"
     ]
    },
    {
     "data": {
      "application/vnd.jupyter.widget-view+json": {
       "model_id": "d717bfbfcd364c2fa4c50b0cbc1dd3ae",
       "version_major": 2,
       "version_minor": 0
      },
      "text/plain": [
       "  0%|          | 0/4 [00:00<?, ?it/s]"
      ]
     },
     "metadata": {},
     "output_type": "display_data"
    },
    {
     "name": "stderr",
     "output_type": "stream",
     "text": [
      "Found cached dataset mmlu (/Users/xiayu/.cache/huggingface/datasets/cais___mmlu/nutrition/1.0.0/49beb454d1ef6d7994f43183dc194713f39dd672b4f5a92c08b0b394991910c7)\n"
     ]
    },
    {
     "data": {
      "application/vnd.jupyter.widget-view+json": {
       "model_id": "7866533af57c4a9e8c02944a26b7d297",
       "version_major": 2,
       "version_minor": 0
      },
      "text/plain": [
       "  0%|          | 0/4 [00:00<?, ?it/s]"
      ]
     },
     "metadata": {},
     "output_type": "display_data"
    },
    {
     "name": "stderr",
     "output_type": "stream",
     "text": [
      "Found cached dataset mmlu (/Users/xiayu/.cache/huggingface/datasets/cais___mmlu/prehistory/1.0.0/49beb454d1ef6d7994f43183dc194713f39dd672b4f5a92c08b0b394991910c7)\n"
     ]
    },
    {
     "data": {
      "application/vnd.jupyter.widget-view+json": {
       "model_id": "1dd313e794004dfb88c87034a42121e3",
       "version_major": 2,
       "version_minor": 0
      },
      "text/plain": [
       "  0%|          | 0/4 [00:00<?, ?it/s]"
      ]
     },
     "metadata": {},
     "output_type": "display_data"
    },
    {
     "name": "stderr",
     "output_type": "stream",
     "text": [
      "Found cached dataset mmlu (/Users/xiayu/.cache/huggingface/datasets/cais___mmlu/professional_accounting/1.0.0/49beb454d1ef6d7994f43183dc194713f39dd672b4f5a92c08b0b394991910c7)\n"
     ]
    },
    {
     "data": {
      "application/vnd.jupyter.widget-view+json": {
       "model_id": "ccd7733df923424499f6a224d2a0e6e1",
       "version_major": 2,
       "version_minor": 0
      },
      "text/plain": [
       "  0%|          | 0/4 [00:00<?, ?it/s]"
      ]
     },
     "metadata": {},
     "output_type": "display_data"
    },
    {
     "name": "stderr",
     "output_type": "stream",
     "text": [
      "Found cached dataset mmlu (/Users/xiayu/.cache/huggingface/datasets/cais___mmlu/professional_law/1.0.0/49beb454d1ef6d7994f43183dc194713f39dd672b4f5a92c08b0b394991910c7)\n"
     ]
    },
    {
     "data": {
      "application/vnd.jupyter.widget-view+json": {
       "model_id": "74873a6d3dcf4a639d83f21ceaf8ba70",
       "version_major": 2,
       "version_minor": 0
      },
      "text/plain": [
       "  0%|          | 0/4 [00:00<?, ?it/s]"
      ]
     },
     "metadata": {},
     "output_type": "display_data"
    },
    {
     "name": "stderr",
     "output_type": "stream",
     "text": [
      "Found cached dataset mmlu (/Users/xiayu/.cache/huggingface/datasets/cais___mmlu/professional_medicine/1.0.0/49beb454d1ef6d7994f43183dc194713f39dd672b4f5a92c08b0b394991910c7)\n"
     ]
    },
    {
     "data": {
      "application/vnd.jupyter.widget-view+json": {
       "model_id": "3df83c73839c4644b0284d6941781fdb",
       "version_major": 2,
       "version_minor": 0
      },
      "text/plain": [
       "  0%|          | 0/4 [00:00<?, ?it/s]"
      ]
     },
     "metadata": {},
     "output_type": "display_data"
    },
    {
     "name": "stderr",
     "output_type": "stream",
     "text": [
      "Found cached dataset mmlu (/Users/xiayu/.cache/huggingface/datasets/cais___mmlu/professional_psychology/1.0.0/49beb454d1ef6d7994f43183dc194713f39dd672b4f5a92c08b0b394991910c7)\n"
     ]
    },
    {
     "data": {
      "application/vnd.jupyter.widget-view+json": {
       "model_id": "9e07edc32e614c13832c72d13f54b32c",
       "version_major": 2,
       "version_minor": 0
      },
      "text/plain": [
       "  0%|          | 0/4 [00:00<?, ?it/s]"
      ]
     },
     "metadata": {},
     "output_type": "display_data"
    },
    {
     "name": "stderr",
     "output_type": "stream",
     "text": [
      "Found cached dataset mmlu (/Users/xiayu/.cache/huggingface/datasets/cais___mmlu/public_relations/1.0.0/49beb454d1ef6d7994f43183dc194713f39dd672b4f5a92c08b0b394991910c7)\n"
     ]
    },
    {
     "data": {
      "application/vnd.jupyter.widget-view+json": {
       "model_id": "1cbff1c56c564492844260401a65f10d",
       "version_major": 2,
       "version_minor": 0
      },
      "text/plain": [
       "  0%|          | 0/4 [00:00<?, ?it/s]"
      ]
     },
     "metadata": {},
     "output_type": "display_data"
    },
    {
     "name": "stderr",
     "output_type": "stream",
     "text": [
      "Found cached dataset mmlu (/Users/xiayu/.cache/huggingface/datasets/cais___mmlu/security_studies/1.0.0/49beb454d1ef6d7994f43183dc194713f39dd672b4f5a92c08b0b394991910c7)\n"
     ]
    },
    {
     "data": {
      "application/vnd.jupyter.widget-view+json": {
       "model_id": "6d5e08fec0324be29ce8971e96f201a0",
       "version_major": 2,
       "version_minor": 0
      },
      "text/plain": [
       "  0%|          | 0/4 [00:00<?, ?it/s]"
      ]
     },
     "metadata": {},
     "output_type": "display_data"
    },
    {
     "name": "stderr",
     "output_type": "stream",
     "text": [
      "Found cached dataset mmlu (/Users/xiayu/.cache/huggingface/datasets/cais___mmlu/sociology/1.0.0/49beb454d1ef6d7994f43183dc194713f39dd672b4f5a92c08b0b394991910c7)\n"
     ]
    },
    {
     "data": {
      "application/vnd.jupyter.widget-view+json": {
       "model_id": "d1680385f3b84391ac14d4f810760163",
       "version_major": 2,
       "version_minor": 0
      },
      "text/plain": [
       "  0%|          | 0/4 [00:00<?, ?it/s]"
      ]
     },
     "metadata": {},
     "output_type": "display_data"
    },
    {
     "name": "stderr",
     "output_type": "stream",
     "text": [
      "Found cached dataset mmlu (/Users/xiayu/.cache/huggingface/datasets/cais___mmlu/us_foreign_policy/1.0.0/49beb454d1ef6d7994f43183dc194713f39dd672b4f5a92c08b0b394991910c7)\n"
     ]
    },
    {
     "data": {
      "application/vnd.jupyter.widget-view+json": {
       "model_id": "4936bcc5e19642c6ae938111f2efec9b",
       "version_major": 2,
       "version_minor": 0
      },
      "text/plain": [
       "  0%|          | 0/4 [00:00<?, ?it/s]"
      ]
     },
     "metadata": {},
     "output_type": "display_data"
    },
    {
     "name": "stderr",
     "output_type": "stream",
     "text": [
      "Found cached dataset mmlu (/Users/xiayu/.cache/huggingface/datasets/cais___mmlu/virology/1.0.0/49beb454d1ef6d7994f43183dc194713f39dd672b4f5a92c08b0b394991910c7)\n"
     ]
    },
    {
     "data": {
      "application/vnd.jupyter.widget-view+json": {
       "model_id": "db79d33a42074fcd85fe3863ad46e832",
       "version_major": 2,
       "version_minor": 0
      },
      "text/plain": [
       "  0%|          | 0/4 [00:00<?, ?it/s]"
      ]
     },
     "metadata": {},
     "output_type": "display_data"
    },
    {
     "name": "stderr",
     "output_type": "stream",
     "text": [
      "Found cached dataset mmlu (/Users/xiayu/.cache/huggingface/datasets/cais___mmlu/world_religions/1.0.0/49beb454d1ef6d7994f43183dc194713f39dd672b4f5a92c08b0b394991910c7)\n"
     ]
    },
    {
     "data": {
      "application/vnd.jupyter.widget-view+json": {
       "model_id": "3b3154a672ae4cab9d9f7445f2ef307e",
       "version_major": 2,
       "version_minor": 0
      },
      "text/plain": [
       "  0%|          | 0/4 [00:00<?, ?it/s]"
      ]
     },
     "metadata": {},
     "output_type": "display_data"
    },
    {
     "name": "stderr",
     "output_type": "stream",
     "text": [
      "Found cached dataset mmlu (/Users/xiayu/.cache/huggingface/datasets/cais___mmlu/philosophy/1.0.0/49beb454d1ef6d7994f43183dc194713f39dd672b4f5a92c08b0b394991910c7)\n"
     ]
    },
    {
     "data": {
      "application/vnd.jupyter.widget-view+json": {
       "model_id": "fa166e8247c34cd28e22ccbbec7460c4",
       "version_major": 2,
       "version_minor": 0
      },
      "text/plain": [
       "  0%|          | 0/4 [00:00<?, ?it/s]"
      ]
     },
     "metadata": {},
     "output_type": "display_data"
    },
    {
     "name": "stderr",
     "output_type": "stream",
     "text": [
      "Found cached dataset mmlu (/Users/xiayu/.cache/huggingface/datasets/cais___mmlu/high_school_biology/1.0.0/49beb454d1ef6d7994f43183dc194713f39dd672b4f5a92c08b0b394991910c7)\n"
     ]
    },
    {
     "data": {
      "application/vnd.jupyter.widget-view+json": {
       "model_id": "662a8c7521184df1a6f6d212d37fc8a7",
       "version_major": 2,
       "version_minor": 0
      },
      "text/plain": [
       "  0%|          | 0/4 [00:00<?, ?it/s]"
      ]
     },
     "metadata": {},
     "output_type": "display_data"
    },
    {
     "name": "stderr",
     "output_type": "stream",
     "text": [
      "Found cached dataset mmlu (/Users/xiayu/.cache/huggingface/datasets/cais___mmlu/high_school_chemistry/1.0.0/49beb454d1ef6d7994f43183dc194713f39dd672b4f5a92c08b0b394991910c7)\n"
     ]
    },
    {
     "data": {
      "application/vnd.jupyter.widget-view+json": {
       "model_id": "8a6fe1b7abe94126b7406429ed177567",
       "version_major": 2,
       "version_minor": 0
      },
      "text/plain": [
       "  0%|          | 0/4 [00:00<?, ?it/s]"
      ]
     },
     "metadata": {},
     "output_type": "display_data"
    },
    {
     "name": "stderr",
     "output_type": "stream",
     "text": [
      "Found cached dataset mmlu (/Users/xiayu/.cache/huggingface/datasets/cais___mmlu/high_school_computer_science/1.0.0/49beb454d1ef6d7994f43183dc194713f39dd672b4f5a92c08b0b394991910c7)\n"
     ]
    },
    {
     "data": {
      "application/vnd.jupyter.widget-view+json": {
       "model_id": "4a8263d5a69041deb9ddd98f1ca8c12c",
       "version_major": 2,
       "version_minor": 0
      },
      "text/plain": [
       "  0%|          | 0/4 [00:00<?, ?it/s]"
      ]
     },
     "metadata": {},
     "output_type": "display_data"
    },
    {
     "name": "stderr",
     "output_type": "stream",
     "text": [
      "Found cached dataset mmlu (/Users/xiayu/.cache/huggingface/datasets/cais___mmlu/high_school_european_history/1.0.0/49beb454d1ef6d7994f43183dc194713f39dd672b4f5a92c08b0b394991910c7)\n"
     ]
    },
    {
     "data": {
      "application/vnd.jupyter.widget-view+json": {
       "model_id": "cec7c56b73e04df186de5cee043239f4",
       "version_major": 2,
       "version_minor": 0
      },
      "text/plain": [
       "  0%|          | 0/4 [00:00<?, ?it/s]"
      ]
     },
     "metadata": {},
     "output_type": "display_data"
    },
    {
     "name": "stderr",
     "output_type": "stream",
     "text": [
      "Found cached dataset mmlu (/Users/xiayu/.cache/huggingface/datasets/cais___mmlu/high_school_geography/1.0.0/49beb454d1ef6d7994f43183dc194713f39dd672b4f5a92c08b0b394991910c7)\n"
     ]
    },
    {
     "data": {
      "application/vnd.jupyter.widget-view+json": {
       "model_id": "cf7114840dd2454d822fdce4fd2acfa9",
       "version_major": 2,
       "version_minor": 0
      },
      "text/plain": [
       "  0%|          | 0/4 [00:00<?, ?it/s]"
      ]
     },
     "metadata": {},
     "output_type": "display_data"
    },
    {
     "name": "stderr",
     "output_type": "stream",
     "text": [
      "Found cached dataset mmlu (/Users/xiayu/.cache/huggingface/datasets/cais___mmlu/high_school_government_and_politics/1.0.0/49beb454d1ef6d7994f43183dc194713f39dd672b4f5a92c08b0b394991910c7)\n"
     ]
    },
    {
     "data": {
      "application/vnd.jupyter.widget-view+json": {
       "model_id": "b147e7cae6864dd8b1ff1f2238e85e42",
       "version_major": 2,
       "version_minor": 0
      },
      "text/plain": [
       "  0%|          | 0/4 [00:00<?, ?it/s]"
      ]
     },
     "metadata": {},
     "output_type": "display_data"
    },
    {
     "name": "stderr",
     "output_type": "stream",
     "text": [
      "Found cached dataset mmlu (/Users/xiayu/.cache/huggingface/datasets/cais___mmlu/high_school_macroeconomics/1.0.0/49beb454d1ef6d7994f43183dc194713f39dd672b4f5a92c08b0b394991910c7)\n"
     ]
    },
    {
     "data": {
      "application/vnd.jupyter.widget-view+json": {
       "model_id": "631e4fc864f5440cacf64cea99ecccd5",
       "version_major": 2,
       "version_minor": 0
      },
      "text/plain": [
       "  0%|          | 0/4 [00:00<?, ?it/s]"
      ]
     },
     "metadata": {},
     "output_type": "display_data"
    },
    {
     "name": "stderr",
     "output_type": "stream",
     "text": [
      "Found cached dataset mmlu (/Users/xiayu/.cache/huggingface/datasets/cais___mmlu/high_school_mathematics/1.0.0/49beb454d1ef6d7994f43183dc194713f39dd672b4f5a92c08b0b394991910c7)\n"
     ]
    },
    {
     "data": {
      "application/vnd.jupyter.widget-view+json": {
       "model_id": "2d6313a4f4384f358f56a2d8c0577c23",
       "version_major": 2,
       "version_minor": 0
      },
      "text/plain": [
       "  0%|          | 0/4 [00:00<?, ?it/s]"
      ]
     },
     "metadata": {},
     "output_type": "display_data"
    },
    {
     "name": "stderr",
     "output_type": "stream",
     "text": [
      "Found cached dataset mmlu (/Users/xiayu/.cache/huggingface/datasets/cais___mmlu/high_school_microeconomics/1.0.0/49beb454d1ef6d7994f43183dc194713f39dd672b4f5a92c08b0b394991910c7)\n"
     ]
    },
    {
     "data": {
      "application/vnd.jupyter.widget-view+json": {
       "model_id": "be3886e5dc4840f1acb8b4e25925805b",
       "version_major": 2,
       "version_minor": 0
      },
      "text/plain": [
       "  0%|          | 0/4 [00:00<?, ?it/s]"
      ]
     },
     "metadata": {},
     "output_type": "display_data"
    },
    {
     "name": "stderr",
     "output_type": "stream",
     "text": [
      "Found cached dataset mmlu (/Users/xiayu/.cache/huggingface/datasets/cais___mmlu/high_school_physics/1.0.0/49beb454d1ef6d7994f43183dc194713f39dd672b4f5a92c08b0b394991910c7)\n"
     ]
    },
    {
     "data": {
      "application/vnd.jupyter.widget-view+json": {
       "model_id": "123395432e374d8e807bf7d0998cf505",
       "version_major": 2,
       "version_minor": 0
      },
      "text/plain": [
       "  0%|          | 0/4 [00:00<?, ?it/s]"
      ]
     },
     "metadata": {},
     "output_type": "display_data"
    },
    {
     "name": "stderr",
     "output_type": "stream",
     "text": [
      "Found cached dataset mmlu (/Users/xiayu/.cache/huggingface/datasets/cais___mmlu/high_school_psychology/1.0.0/49beb454d1ef6d7994f43183dc194713f39dd672b4f5a92c08b0b394991910c7)\n"
     ]
    },
    {
     "data": {
      "application/vnd.jupyter.widget-view+json": {
       "model_id": "4603ce6044af4c1582a16d7a8494a8a9",
       "version_major": 2,
       "version_minor": 0
      },
      "text/plain": [
       "  0%|          | 0/4 [00:00<?, ?it/s]"
      ]
     },
     "metadata": {},
     "output_type": "display_data"
    },
    {
     "name": "stderr",
     "output_type": "stream",
     "text": [
      "Found cached dataset mmlu (/Users/xiayu/.cache/huggingface/datasets/cais___mmlu/high_school_statistics/1.0.0/49beb454d1ef6d7994f43183dc194713f39dd672b4f5a92c08b0b394991910c7)\n"
     ]
    },
    {
     "data": {
      "application/vnd.jupyter.widget-view+json": {
       "model_id": "ad1709a22bc3400ebf42986b744e18fe",
       "version_major": 2,
       "version_minor": 0
      },
      "text/plain": [
       "  0%|          | 0/4 [00:00<?, ?it/s]"
      ]
     },
     "metadata": {},
     "output_type": "display_data"
    },
    {
     "name": "stderr",
     "output_type": "stream",
     "text": [
      "Found cached dataset mmlu (/Users/xiayu/.cache/huggingface/datasets/cais___mmlu/high_school_us_history/1.0.0/49beb454d1ef6d7994f43183dc194713f39dd672b4f5a92c08b0b394991910c7)\n"
     ]
    },
    {
     "data": {
      "application/vnd.jupyter.widget-view+json": {
       "model_id": "558f6e48d9f84821bc07a337886db08a",
       "version_major": 2,
       "version_minor": 0
      },
      "text/plain": [
       "  0%|          | 0/4 [00:00<?, ?it/s]"
      ]
     },
     "metadata": {},
     "output_type": "display_data"
    },
    {
     "name": "stderr",
     "output_type": "stream",
     "text": [
      "Found cached dataset mmlu (/Users/xiayu/.cache/huggingface/datasets/cais___mmlu/high_school_world_history/1.0.0/49beb454d1ef6d7994f43183dc194713f39dd672b4f5a92c08b0b394991910c7)\n"
     ]
    },
    {
     "data": {
      "application/vnd.jupyter.widget-view+json": {
       "model_id": "9ffbdbca799442dd9bffdf9378610f7e",
       "version_major": 2,
       "version_minor": 0
      },
      "text/plain": [
       "  0%|          | 0/4 [00:00<?, ?it/s]"
      ]
     },
     "metadata": {},
     "output_type": "display_data"
    },
    {
     "name": "stderr",
     "output_type": "stream",
     "text": [
      "Found cached dataset mmlu (/Users/xiayu/.cache/huggingface/datasets/cais___mmlu/moral_disputes/1.0.0/49beb454d1ef6d7994f43183dc194713f39dd672b4f5a92c08b0b394991910c7)\n"
     ]
    },
    {
     "data": {
      "application/vnd.jupyter.widget-view+json": {
       "model_id": "0184c9debf44418282a8e149ab72c57e",
       "version_major": 2,
       "version_minor": 0
      },
      "text/plain": [
       "  0%|          | 0/4 [00:00<?, ?it/s]"
      ]
     },
     "metadata": {},
     "output_type": "display_data"
    },
    {
     "name": "stderr",
     "output_type": "stream",
     "text": [
      "Found cached dataset mmlu (/Users/xiayu/.cache/huggingface/datasets/cais___mmlu/moral_scenarios/1.0.0/49beb454d1ef6d7994f43183dc194713f39dd672b4f5a92c08b0b394991910c7)\n"
     ]
    },
    {
     "data": {
      "application/vnd.jupyter.widget-view+json": {
       "model_id": "d1d37fe3d18a465c9ddfe960e8abfa65",
       "version_major": 2,
       "version_minor": 0
      },
      "text/plain": [
       "  0%|          | 0/4 [00:00<?, ?it/s]"
      ]
     },
     "metadata": {},
     "output_type": "display_data"
    },
    {
     "ename": "ModuleNotFoundError",
     "evalue": "No module named 'aug'",
     "output_type": "error",
     "traceback": [
      "\u001b[0;31m---------------------------------------------------------------------------\u001b[0m",
      "\u001b[0;31mModuleNotFoundError\u001b[0m                       Traceback (most recent call last)",
      "\u001b[1;32m/Users/xiayu/Documents/nips_train/final_dataset/mmlu.ipynb 单元格 3\u001b[0m line \u001b[0;36m1\n\u001b[1;32m      <a href='vscode-notebook-cell:/Users/xiayu/Documents/nips_train/final_dataset/mmlu.ipynb#W1sZmlsZQ%3D%3D?line=8'>9</a>\u001b[0m \u001b[39m# 这段代码是不进行扰动的\u001b[39;00m\n\u001b[1;32m     <a href='vscode-notebook-cell:/Users/xiayu/Documents/nips_train/final_dataset/mmlu.ipynb#W1sZmlsZQ%3D%3D?line=9'>10</a>\u001b[0m \u001b[39mimport\u001b[39;00m \u001b[39mrandom\u001b[39;00m\n\u001b[0;32m---> <a href='vscode-notebook-cell:/Users/xiayu/Documents/nips_train/final_dataset/mmlu.ipynb#W1sZmlsZQ%3D%3D?line=10'>11</a>\u001b[0m \u001b[39mfrom\u001b[39;00m \u001b[39maug\u001b[39;00m \u001b[39mimport\u001b[39;00m \u001b[39m*\u001b[39m\n\u001b[1;32m     <a href='vscode-notebook-cell:/Users/xiayu/Documents/nips_train/final_dataset/mmlu.ipynb#W1sZmlsZQ%3D%3D?line=12'>13</a>\u001b[0m do_perturb \u001b[39m=\u001b[39m \u001b[39mFalse\u001b[39;00m\n\u001b[1;32m     <a href='vscode-notebook-cell:/Users/xiayu/Documents/nips_train/final_dataset/mmlu.ipynb#W1sZmlsZQ%3D%3D?line=13'>14</a>\u001b[0m \u001b[39mprint\u001b[39m(\u001b[39m\"\u001b[39m\u001b[39mstage1\u001b[39m\u001b[39m\"\u001b[39m)\n",
      "\u001b[0;31mModuleNotFoundError\u001b[0m: No module named 'aug'"
     ]
    }
   ],
   "source": [
    "# from datasets import load_dataset\n",
    "# mmlu_datas = {}\n",
    "# for Name in SAMPLE_SUBJECTS:\n",
    "#     mmlu_datas[Name] = load_dataset(\"cais/mmlu\",Name)\n",
    "# for Name in SELECT_SUBJECTS:\n",
    "#     mmlu_datas[Name] = load_dataset(\"cais/mmlu\",Name)\n",
    "    \n",
    "    \n",
    "# # 这段代码是不进行扰动的\n",
    "# import random\n",
    "\n",
    "do_perturb = False\n",
    "print(\"stage1\")\n",
    "mmlu_train = []\n",
    "# prefix = \"Below is an instruction that describes a task. Write a response that appropriately completes the request.\"\n",
    "for Name in SELECT_SUBJECTS:\n",
    "    data_train = mmlu_datas[Name][\"auxiliary_train\"]\n",
    "    random.seed(len(Name))\n",
    "    random_mmlu = random.sample(range(len(data_train)),min(len(data_train),900))\n",
    "    select_mmlu = []\n",
    "    for num in random_mmlu:\n",
    "        nd = {}\n",
    "        tt = data_train[num]\n",
    "        question = tt['question']\n",
    "        prompt,answer_txt = get_prompt_answer(\"\",question,tt['choices'],tt['answer'])\n",
    "        # nd[\"instruction\"] = prefix+f\"### Instruction:\\n{prompt}\\n\\n### Response:\\n\"\n",
    "        nd[\"instruction\"] = prompt\n",
    "        nd[\"input\"] = \"\"\n",
    "        nd[\"output\"] = answer_txt\n",
    "        select_mmlu.append(nd)\n",
    "    mmlu_train.extend(select_mmlu)\n",
    "\n",
    "print(len(mmlu_train))\n",
    "\n",
    "for Name in SAMPLE_SUBJECTS:\n",
    "    data_train = mmlu_datas[Name][\"auxiliary_train\"]\n",
    "    random.seed(len(Name))\n",
    "    random_mmlu = random.sample(range(len(data_train)),min(len(data_train),100))\n",
    "    select_mmlu = []\n",
    "    for num in random_mmlu:\n",
    "        nd = {}\n",
    "        tt = data_train[num]\n",
    "        question = tt['question']\n",
    "        prompt,answer_txt = get_prompt_answer(\"\",question,tt['choices'],tt['answer'])\n",
    "        # nd[\"instruction\"] = prefix+f\"### Instruction:\\n{prompt}\\n\\n### Response:\\n\"\n",
    "        nd[\"instruction\"] = prompt\n",
    "        nd[\"input\"] = \"\"\n",
    "        nd[\"output\"] = answer_txt\n",
    "        select_mmlu.append(nd)\n",
    "    mmlu_train.extend(select_mmlu)\n",
    "\n",
    "print(mmlu_train[0:2])\n",
    "print(len(mmlu_train))\n",
    "\n",
    "import json\n",
    "out_name = f'datas/mmlu_{len(mmlu_train)}_raw{\"_perturb\" if do_perturb else \"\"}.json'\n",
    "with open(out_name, 'w') as output_file:\n",
    "    json.dump(mmlu_train, output_file, indent=4)"
   ]
  },
  {
   "cell_type": "code",
   "execution_count": 6,
   "metadata": {},
   "outputs": [
    {
     "data": {
      "text/plain": [
       "58"
      ]
     },
     "execution_count": 6,
     "metadata": {},
     "output_type": "execute_result"
    }
   ],
   "source": [
    "len(mmlu_datas)"
   ]
  },
  {
   "cell_type": "code",
   "execution_count": 9,
   "metadata": {},
   "outputs": [
    {
     "name": "stdout",
     "output_type": "stream",
     "text": [
      "stage1\n",
      "15300\n",
      "[{'instruction': \"Answer the following question (with answers).You only need to provide the corresponding options without any other output.\\n\\nQuestion: This is Scott. He has an interesting job. He works at a radio station. His radio show is from twelve o'clock at night to six o'clock in the morning. He sings well. He usually gets up at seven thirty at night. He brushes his teeth and takes a shower at ten past eight. Then he eats breakfast at nine. That's a funny time for breakfast! After that , he usually exercise at about ten twenty. He goes to work by car at eleven o'clock. It takes ten minutes to get the radio station. So he is never late for work. Where does Scott work?\\nA. train station\\nB. bus station\\nC. radio station\\nD. police station\\nAnswer: \", 'input': '', 'output': 'C'}, {'instruction': 'Answer the following question (with answers).You only need to provide the corresponding options without any other output.\\n\\nQuestion: Max was sitting at home reading his favorite book.  The story was about cakes.  Max thought to himself, \"I am going to go to the store and get stuff to make a cake!\"   Max headed to the grocery store to get the cake ingredients.  Max was going to make a banana and chocolate cake.  On his way he saw his friend Greg, a small wolf.  Greg was also heading to the store.  Greg was going to make a pie for his mother.  He needed to get strawberries and blueberries.  Max asked Greg if he wanted to walk to the store together.  Greg the wolf said yes, so they walked to the store together.  At the store the other people looked at Max and Greg.  They had never seen an alligator and a wolf who are friends before.  Max and Greg laughed at this.  Max got the chocolate and bananas to make his cake and Greg got the strawberries and blueberries to make his pie.  They left the store.  Max waved good bye to Greg.  \"See you later alligator,\" said Greg.  Max went home and made his cake, it was very good. What kind of animal is Greg?\\nA. A wolf\\nB. An alligator\\nC. Bananas\\nD. Dog\\nAnswer: ', 'input': '', 'output': 'A'}]\n",
      "19400\n"
     ]
    }
   ],
   "source": []
  },
  {
   "cell_type": "code",
   "execution_count": 15,
   "metadata": {},
   "outputs": [],
   "source": []
  }
 ],
 "metadata": {
  "kernelspec": {
   "display_name": "base",
   "language": "python",
   "name": "python3"
  },
  "language_info": {
   "codemirror_mode": {
    "name": "ipython",
    "version": 3
   },
   "file_extension": ".py",
   "mimetype": "text/x-python",
   "name": "python",
   "nbconvert_exporter": "python",
   "pygments_lexer": "ipython3",
   "version": "3.11.4"
  },
  "orig_nbformat": 4
 },
 "nbformat": 4,
 "nbformat_minor": 2
}
